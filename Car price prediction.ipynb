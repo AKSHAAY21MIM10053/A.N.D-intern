{
 "cells": [
  {
   "cell_type": "markdown",
   "metadata": {},
   "source": [
    "PREDICT PRICE OF USED CARS "
   ]
  },
  {
   "cell_type": "markdown",
   "metadata": {},
   "source": [
    "data collection"
   ]
  },
  {
   "cell_type": "code",
   "execution_count": 275,
   "metadata": {},
   "outputs": [
    {
     "data": {
      "text/html": [
       "<div>\n",
       "<style scoped>\n",
       "    .dataframe tbody tr th:only-of-type {\n",
       "        vertical-align: middle;\n",
       "    }\n",
       "\n",
       "    .dataframe tbody tr th {\n",
       "        vertical-align: top;\n",
       "    }\n",
       "\n",
       "    .dataframe thead th {\n",
       "        text-align: right;\n",
       "    }\n",
       "</style>\n",
       "<table border=\"1\" class=\"dataframe\">\n",
       "  <thead>\n",
       "    <tr style=\"text-align: right;\">\n",
       "      <th></th>\n",
       "      <th>car_name</th>\n",
       "      <th>car_price_in_rupees</th>\n",
       "      <th>kms_driven</th>\n",
       "      <th>fuel_type</th>\n",
       "      <th>city</th>\n",
       "      <th>year_of_manufacture</th>\n",
       "    </tr>\n",
       "  </thead>\n",
       "  <tbody>\n",
       "    <tr>\n",
       "      <th>0</th>\n",
       "      <td>Hyundai Grand i10 Magna 1.2 Kappa VTVT [2017-2...</td>\n",
       "      <td>₹ 4.45 Lakh</td>\n",
       "      <td>22,402 km</td>\n",
       "      <td>Petrol</td>\n",
       "      <td>Mumbai</td>\n",
       "      <td>2016</td>\n",
       "    </tr>\n",
       "    <tr>\n",
       "      <th>1</th>\n",
       "      <td>Maruti Suzuki Alto 800 Lxi</td>\n",
       "      <td>₹ 2.93 Lakh</td>\n",
       "      <td>10,344 km</td>\n",
       "      <td>Petrol</td>\n",
       "      <td>Kolkata</td>\n",
       "      <td>2019</td>\n",
       "    </tr>\n",
       "    <tr>\n",
       "      <th>2</th>\n",
       "      <td>Tata Safari XZ Plus New</td>\n",
       "      <td>₹ 22.49 Lakh</td>\n",
       "      <td>12,999 km</td>\n",
       "      <td>Diesel</td>\n",
       "      <td>Bangalore</td>\n",
       "      <td>2021</td>\n",
       "    </tr>\n",
       "    <tr>\n",
       "      <th>3</th>\n",
       "      <td>Maruti Suzuki Ciaz ZXI+</td>\n",
       "      <td>₹ 6.95 Lakh</td>\n",
       "      <td>45,000 km</td>\n",
       "      <td>Petrol</td>\n",
       "      <td>Thane</td>\n",
       "      <td>2016</td>\n",
       "    </tr>\n",
       "    <tr>\n",
       "      <th>4</th>\n",
       "      <td>Jeep Compass Sport Plus 1.4 Petrol [2019-2020]</td>\n",
       "      <td>₹ 12 Lakh</td>\n",
       "      <td>11,193 km</td>\n",
       "      <td>Petrol</td>\n",
       "      <td>Kolkata</td>\n",
       "      <td>2019</td>\n",
       "    </tr>\n",
       "    <tr>\n",
       "      <th>...</th>\n",
       "      <td>...</td>\n",
       "      <td>...</td>\n",
       "      <td>...</td>\n",
       "      <td>...</td>\n",
       "      <td>...</td>\n",
       "      <td>...</td>\n",
       "    </tr>\n",
       "    <tr>\n",
       "      <th>2100</th>\n",
       "      <td>Ford Figo Titanium1.5 TDCi</td>\n",
       "      <td>₹ 3.6 Lakh</td>\n",
       "      <td>42,158 km</td>\n",
       "      <td>Diesel</td>\n",
       "      <td>Kolkata</td>\n",
       "      <td>2015</td>\n",
       "    </tr>\n",
       "    <tr>\n",
       "      <th>2101</th>\n",
       "      <td>MINI Cooper Countryman Cooper D</td>\n",
       "      <td>₹ 22 Lakh</td>\n",
       "      <td>68,862 km</td>\n",
       "      <td>Diesel</td>\n",
       "      <td>Hyderabad</td>\n",
       "      <td>2013</td>\n",
       "    </tr>\n",
       "    <tr>\n",
       "      <th>2102</th>\n",
       "      <td>Hyundai Verna 1.6 VTVT SX</td>\n",
       "      <td>₹ 8.38 Lakh</td>\n",
       "      <td>37,622 km</td>\n",
       "      <td>Petrol</td>\n",
       "      <td>Chennai</td>\n",
       "      <td>2018</td>\n",
       "    </tr>\n",
       "    <tr>\n",
       "      <th>2103</th>\n",
       "      <td>Maruti Suzuki Ciaz VXi+ AT</td>\n",
       "      <td>₹ 6.75 Lakh</td>\n",
       "      <td>64,726 km</td>\n",
       "      <td>Petrol</td>\n",
       "      <td>Mumbai</td>\n",
       "      <td>2017</td>\n",
       "    </tr>\n",
       "    <tr>\n",
       "      <th>2104</th>\n",
       "      <td>Hyundai Verna 1.6 VTVT SX</td>\n",
       "      <td>₹ 8.76 Lakh</td>\n",
       "      <td>29,150 km</td>\n",
       "      <td>Petrol</td>\n",
       "      <td>Pune</td>\n",
       "      <td>2017</td>\n",
       "    </tr>\n",
       "  </tbody>\n",
       "</table>\n",
       "<p>2105 rows × 6 columns</p>\n",
       "</div>"
      ],
      "text/plain": [
       "                                               car_name car_price_in_rupees  \\\n",
       "0     Hyundai Grand i10 Magna 1.2 Kappa VTVT [2017-2...         ₹ 4.45 Lakh   \n",
       "1                            Maruti Suzuki Alto 800 Lxi         ₹ 2.93 Lakh   \n",
       "2                               Tata Safari XZ Plus New        ₹ 22.49 Lakh   \n",
       "3                               Maruti Suzuki Ciaz ZXI+         ₹ 6.95 Lakh   \n",
       "4        Jeep Compass Sport Plus 1.4 Petrol [2019-2020]           ₹ 12 Lakh   \n",
       "...                                                 ...                 ...   \n",
       "2100                         Ford Figo Titanium1.5 TDCi          ₹ 3.6 Lakh   \n",
       "2101                    MINI Cooper Countryman Cooper D           ₹ 22 Lakh   \n",
       "2102                          Hyundai Verna 1.6 VTVT SX         ₹ 8.38 Lakh   \n",
       "2103                         Maruti Suzuki Ciaz VXi+ AT         ₹ 6.75 Lakh   \n",
       "2104                          Hyundai Verna 1.6 VTVT SX         ₹ 8.76 Lakh   \n",
       "\n",
       "     kms_driven fuel_type       city  year_of_manufacture  \n",
       "0     22,402 km    Petrol     Mumbai                 2016  \n",
       "1     10,344 km    Petrol    Kolkata                 2019  \n",
       "2     12,999 km    Diesel  Bangalore                 2021  \n",
       "3     45,000 km    Petrol      Thane                 2016  \n",
       "4     11,193 km    Petrol    Kolkata                 2019  \n",
       "...         ...       ...        ...                  ...  \n",
       "2100  42,158 km    Diesel    Kolkata                 2015  \n",
       "2101  68,862 km    Diesel  Hyderabad                 2013  \n",
       "2102  37,622 km    Petrol    Chennai                 2018  \n",
       "2103  64,726 km    Petrol     Mumbai                 2017  \n",
       "2104  29,150 km    Petrol       Pune                 2017  \n",
       "\n",
       "[2105 rows x 6 columns]"
      ]
     },
     "execution_count": 275,
     "metadata": {},
     "output_type": "execute_result"
    }
   ],
   "source": [
    "import pandas as pd\n",
    "df = pd.read_csv(\"used_car_dataset.csv\")\n",
    "df"
   ]
  },
  {
   "cell_type": "code",
   "execution_count": 276,
   "metadata": {},
   "outputs": [
    {
     "data": {
      "text/plain": [
       "₹ 4.75 Lakh     23\n",
       "₹ 4.25 Lakh     20\n",
       "₹ 6.5 Lakh      20\n",
       "₹ 4.5 Lakh      18\n",
       "₹ 6.75 Lakh     18\n",
       "                ..\n",
       "₹ 6.52 Lakh      1\n",
       "₹ 9.31 Lakh      1\n",
       "₹ 9.54 Lakh      1\n",
       "₹ 12.13 Lakh     1\n",
       "₹ 8.76 Lakh      1\n",
       "Name: car_price_in_rupees, Length: 811, dtype: int64"
      ]
     },
     "execution_count": 276,
     "metadata": {},
     "output_type": "execute_result"
    }
   ],
   "source": [
    "df[\"car_price_in_rupees\"].value_counts()"
   ]
  },
  {
   "cell_type": "markdown",
   "metadata": {},
   "source": [
    "data preprocessing"
   ]
  },
  {
   "cell_type": "code",
   "execution_count": 277,
   "metadata": {},
   "outputs": [],
   "source": [
    "def price_to_num(x):\n",
    "    parts = x.split()\n",
    "    \n",
    "    if len(parts) <2:\n",
    "        return None\n",
    "    \n",
    "    try:\n",
    "        val = float(parts[1].replace(\",\",\"\"))\n",
    "    except ValueError:\n",
    "        return None\n",
    "    \n",
    "    \n",
    "    if 'Lakh' in parts:\n",
    "        return val * 100000  \n",
    "    elif 'Crore' in parts:\n",
    "        return val * 10000000  \n",
    "    else:\n",
    "        return int(val)\n",
    "        "
   ]
  },
  {
   "cell_type": "code",
   "execution_count": 278,
   "metadata": {},
   "outputs": [],
   "source": [
    "# converting price to number\n",
    "df[\"car_price_in_num\"] = df[\"car_price_in_rupees\"].apply(price_to_num)\n",
    "df = df.drop(\"car_price_in_rupees\",axis=\"columns\")"
   ]
  },
  {
   "cell_type": "code",
   "execution_count": 279,
   "metadata": {},
   "outputs": [
    {
     "data": {
      "text/html": [
       "<div>\n",
       "<style scoped>\n",
       "    .dataframe tbody tr th:only-of-type {\n",
       "        vertical-align: middle;\n",
       "    }\n",
       "\n",
       "    .dataframe tbody tr th {\n",
       "        vertical-align: top;\n",
       "    }\n",
       "\n",
       "    .dataframe thead th {\n",
       "        text-align: right;\n",
       "    }\n",
       "</style>\n",
       "<table border=\"1\" class=\"dataframe\">\n",
       "  <thead>\n",
       "    <tr style=\"text-align: right;\">\n",
       "      <th></th>\n",
       "      <th>car_name</th>\n",
       "      <th>kms_driven</th>\n",
       "      <th>fuel_type</th>\n",
       "      <th>city</th>\n",
       "      <th>year_of_manufacture</th>\n",
       "      <th>car_price_in_num</th>\n",
       "    </tr>\n",
       "  </thead>\n",
       "  <tbody>\n",
       "    <tr>\n",
       "      <th>0</th>\n",
       "      <td>Hyundai Grand i10 Magna 1.2 Kappa VTVT [2017-2...</td>\n",
       "      <td>22,402 km</td>\n",
       "      <td>Petrol</td>\n",
       "      <td>Mumbai</td>\n",
       "      <td>2016</td>\n",
       "      <td>445000.0</td>\n",
       "    </tr>\n",
       "    <tr>\n",
       "      <th>1</th>\n",
       "      <td>Maruti Suzuki Alto 800 Lxi</td>\n",
       "      <td>10,344 km</td>\n",
       "      <td>Petrol</td>\n",
       "      <td>Kolkata</td>\n",
       "      <td>2019</td>\n",
       "      <td>293000.0</td>\n",
       "    </tr>\n",
       "    <tr>\n",
       "      <th>2</th>\n",
       "      <td>Tata Safari XZ Plus New</td>\n",
       "      <td>12,999 km</td>\n",
       "      <td>Diesel</td>\n",
       "      <td>Bangalore</td>\n",
       "      <td>2021</td>\n",
       "      <td>2249000.0</td>\n",
       "    </tr>\n",
       "    <tr>\n",
       "      <th>3</th>\n",
       "      <td>Maruti Suzuki Ciaz ZXI+</td>\n",
       "      <td>45,000 km</td>\n",
       "      <td>Petrol</td>\n",
       "      <td>Thane</td>\n",
       "      <td>2016</td>\n",
       "      <td>695000.0</td>\n",
       "    </tr>\n",
       "    <tr>\n",
       "      <th>4</th>\n",
       "      <td>Jeep Compass Sport Plus 1.4 Petrol [2019-2020]</td>\n",
       "      <td>11,193 km</td>\n",
       "      <td>Petrol</td>\n",
       "      <td>Kolkata</td>\n",
       "      <td>2019</td>\n",
       "      <td>1200000.0</td>\n",
       "    </tr>\n",
       "    <tr>\n",
       "      <th>...</th>\n",
       "      <td>...</td>\n",
       "      <td>...</td>\n",
       "      <td>...</td>\n",
       "      <td>...</td>\n",
       "      <td>...</td>\n",
       "      <td>...</td>\n",
       "    </tr>\n",
       "    <tr>\n",
       "      <th>2100</th>\n",
       "      <td>Ford Figo Titanium1.5 TDCi</td>\n",
       "      <td>42,158 km</td>\n",
       "      <td>Diesel</td>\n",
       "      <td>Kolkata</td>\n",
       "      <td>2015</td>\n",
       "      <td>360000.0</td>\n",
       "    </tr>\n",
       "    <tr>\n",
       "      <th>2101</th>\n",
       "      <td>MINI Cooper Countryman Cooper D</td>\n",
       "      <td>68,862 km</td>\n",
       "      <td>Diesel</td>\n",
       "      <td>Hyderabad</td>\n",
       "      <td>2013</td>\n",
       "      <td>2200000.0</td>\n",
       "    </tr>\n",
       "    <tr>\n",
       "      <th>2102</th>\n",
       "      <td>Hyundai Verna 1.6 VTVT SX</td>\n",
       "      <td>37,622 km</td>\n",
       "      <td>Petrol</td>\n",
       "      <td>Chennai</td>\n",
       "      <td>2018</td>\n",
       "      <td>838000.0</td>\n",
       "    </tr>\n",
       "    <tr>\n",
       "      <th>2103</th>\n",
       "      <td>Maruti Suzuki Ciaz VXi+ AT</td>\n",
       "      <td>64,726 km</td>\n",
       "      <td>Petrol</td>\n",
       "      <td>Mumbai</td>\n",
       "      <td>2017</td>\n",
       "      <td>675000.0</td>\n",
       "    </tr>\n",
       "    <tr>\n",
       "      <th>2104</th>\n",
       "      <td>Hyundai Verna 1.6 VTVT SX</td>\n",
       "      <td>29,150 km</td>\n",
       "      <td>Petrol</td>\n",
       "      <td>Pune</td>\n",
       "      <td>2017</td>\n",
       "      <td>876000.0</td>\n",
       "    </tr>\n",
       "  </tbody>\n",
       "</table>\n",
       "<p>2105 rows × 6 columns</p>\n",
       "</div>"
      ],
      "text/plain": [
       "                                               car_name kms_driven fuel_type  \\\n",
       "0     Hyundai Grand i10 Magna 1.2 Kappa VTVT [2017-2...  22,402 km    Petrol   \n",
       "1                            Maruti Suzuki Alto 800 Lxi  10,344 km    Petrol   \n",
       "2                               Tata Safari XZ Plus New  12,999 km    Diesel   \n",
       "3                               Maruti Suzuki Ciaz ZXI+  45,000 km    Petrol   \n",
       "4        Jeep Compass Sport Plus 1.4 Petrol [2019-2020]  11,193 km    Petrol   \n",
       "...                                                 ...        ...       ...   \n",
       "2100                         Ford Figo Titanium1.5 TDCi  42,158 km    Diesel   \n",
       "2101                    MINI Cooper Countryman Cooper D  68,862 km    Diesel   \n",
       "2102                          Hyundai Verna 1.6 VTVT SX  37,622 km    Petrol   \n",
       "2103                         Maruti Suzuki Ciaz VXi+ AT  64,726 km    Petrol   \n",
       "2104                          Hyundai Verna 1.6 VTVT SX  29,150 km    Petrol   \n",
       "\n",
       "           city  year_of_manufacture  car_price_in_num  \n",
       "0        Mumbai                 2016          445000.0  \n",
       "1       Kolkata                 2019          293000.0  \n",
       "2     Bangalore                 2021         2249000.0  \n",
       "3         Thane                 2016          695000.0  \n",
       "4       Kolkata                 2019         1200000.0  \n",
       "...         ...                  ...               ...  \n",
       "2100    Kolkata                 2015          360000.0  \n",
       "2101  Hyderabad                 2013         2200000.0  \n",
       "2102    Chennai                 2018          838000.0  \n",
       "2103     Mumbai                 2017          675000.0  \n",
       "2104       Pune                 2017          876000.0  \n",
       "\n",
       "[2105 rows x 6 columns]"
      ]
     },
     "execution_count": 279,
     "metadata": {},
     "output_type": "execute_result"
    }
   ],
   "source": [
    "df"
   ]
  },
  {
   "cell_type": "code",
   "execution_count": 280,
   "metadata": {},
   "outputs": [],
   "source": [
    "def con_km(x):\n",
    "    km = x.split()\n",
    "    val = float(km[0].replace(\",\",\"\"))\n",
    "    return val"
   ]
  },
  {
   "cell_type": "code",
   "execution_count": 281,
   "metadata": {},
   "outputs": [
    {
     "data": {
      "text/html": [
       "<div>\n",
       "<style scoped>\n",
       "    .dataframe tbody tr th:only-of-type {\n",
       "        vertical-align: middle;\n",
       "    }\n",
       "\n",
       "    .dataframe tbody tr th {\n",
       "        vertical-align: top;\n",
       "    }\n",
       "\n",
       "    .dataframe thead th {\n",
       "        text-align: right;\n",
       "    }\n",
       "</style>\n",
       "<table border=\"1\" class=\"dataframe\">\n",
       "  <thead>\n",
       "    <tr style=\"text-align: right;\">\n",
       "      <th></th>\n",
       "      <th>car_name</th>\n",
       "      <th>fuel_type</th>\n",
       "      <th>city</th>\n",
       "      <th>year_of_manufacture</th>\n",
       "      <th>car_price_in_num</th>\n",
       "      <th>driven_Km</th>\n",
       "    </tr>\n",
       "  </thead>\n",
       "  <tbody>\n",
       "    <tr>\n",
       "      <th>0</th>\n",
       "      <td>Hyundai Grand i10 Magna 1.2 Kappa VTVT [2017-2...</td>\n",
       "      <td>Petrol</td>\n",
       "      <td>Mumbai</td>\n",
       "      <td>2016</td>\n",
       "      <td>445000.0</td>\n",
       "      <td>22402.0</td>\n",
       "    </tr>\n",
       "    <tr>\n",
       "      <th>1</th>\n",
       "      <td>Maruti Suzuki Alto 800 Lxi</td>\n",
       "      <td>Petrol</td>\n",
       "      <td>Kolkata</td>\n",
       "      <td>2019</td>\n",
       "      <td>293000.0</td>\n",
       "      <td>10344.0</td>\n",
       "    </tr>\n",
       "    <tr>\n",
       "      <th>2</th>\n",
       "      <td>Tata Safari XZ Plus New</td>\n",
       "      <td>Diesel</td>\n",
       "      <td>Bangalore</td>\n",
       "      <td>2021</td>\n",
       "      <td>2249000.0</td>\n",
       "      <td>12999.0</td>\n",
       "    </tr>\n",
       "    <tr>\n",
       "      <th>3</th>\n",
       "      <td>Maruti Suzuki Ciaz ZXI+</td>\n",
       "      <td>Petrol</td>\n",
       "      <td>Thane</td>\n",
       "      <td>2016</td>\n",
       "      <td>695000.0</td>\n",
       "      <td>45000.0</td>\n",
       "    </tr>\n",
       "    <tr>\n",
       "      <th>4</th>\n",
       "      <td>Jeep Compass Sport Plus 1.4 Petrol [2019-2020]</td>\n",
       "      <td>Petrol</td>\n",
       "      <td>Kolkata</td>\n",
       "      <td>2019</td>\n",
       "      <td>1200000.0</td>\n",
       "      <td>11193.0</td>\n",
       "    </tr>\n",
       "    <tr>\n",
       "      <th>...</th>\n",
       "      <td>...</td>\n",
       "      <td>...</td>\n",
       "      <td>...</td>\n",
       "      <td>...</td>\n",
       "      <td>...</td>\n",
       "      <td>...</td>\n",
       "    </tr>\n",
       "    <tr>\n",
       "      <th>2100</th>\n",
       "      <td>Ford Figo Titanium1.5 TDCi</td>\n",
       "      <td>Diesel</td>\n",
       "      <td>Kolkata</td>\n",
       "      <td>2015</td>\n",
       "      <td>360000.0</td>\n",
       "      <td>42158.0</td>\n",
       "    </tr>\n",
       "    <tr>\n",
       "      <th>2101</th>\n",
       "      <td>MINI Cooper Countryman Cooper D</td>\n",
       "      <td>Diesel</td>\n",
       "      <td>Hyderabad</td>\n",
       "      <td>2013</td>\n",
       "      <td>2200000.0</td>\n",
       "      <td>68862.0</td>\n",
       "    </tr>\n",
       "    <tr>\n",
       "      <th>2102</th>\n",
       "      <td>Hyundai Verna 1.6 VTVT SX</td>\n",
       "      <td>Petrol</td>\n",
       "      <td>Chennai</td>\n",
       "      <td>2018</td>\n",
       "      <td>838000.0</td>\n",
       "      <td>37622.0</td>\n",
       "    </tr>\n",
       "    <tr>\n",
       "      <th>2103</th>\n",
       "      <td>Maruti Suzuki Ciaz VXi+ AT</td>\n",
       "      <td>Petrol</td>\n",
       "      <td>Mumbai</td>\n",
       "      <td>2017</td>\n",
       "      <td>675000.0</td>\n",
       "      <td>64726.0</td>\n",
       "    </tr>\n",
       "    <tr>\n",
       "      <th>2104</th>\n",
       "      <td>Hyundai Verna 1.6 VTVT SX</td>\n",
       "      <td>Petrol</td>\n",
       "      <td>Pune</td>\n",
       "      <td>2017</td>\n",
       "      <td>876000.0</td>\n",
       "      <td>29150.0</td>\n",
       "    </tr>\n",
       "  </tbody>\n",
       "</table>\n",
       "<p>2105 rows × 6 columns</p>\n",
       "</div>"
      ],
      "text/plain": [
       "                                               car_name fuel_type       city  \\\n",
       "0     Hyundai Grand i10 Magna 1.2 Kappa VTVT [2017-2...    Petrol     Mumbai   \n",
       "1                            Maruti Suzuki Alto 800 Lxi    Petrol    Kolkata   \n",
       "2                               Tata Safari XZ Plus New    Diesel  Bangalore   \n",
       "3                               Maruti Suzuki Ciaz ZXI+    Petrol      Thane   \n",
       "4        Jeep Compass Sport Plus 1.4 Petrol [2019-2020]    Petrol    Kolkata   \n",
       "...                                                 ...       ...        ...   \n",
       "2100                         Ford Figo Titanium1.5 TDCi    Diesel    Kolkata   \n",
       "2101                    MINI Cooper Countryman Cooper D    Diesel  Hyderabad   \n",
       "2102                          Hyundai Verna 1.6 VTVT SX    Petrol    Chennai   \n",
       "2103                         Maruti Suzuki Ciaz VXi+ AT    Petrol     Mumbai   \n",
       "2104                          Hyundai Verna 1.6 VTVT SX    Petrol       Pune   \n",
       "\n",
       "      year_of_manufacture  car_price_in_num  driven_Km  \n",
       "0                    2016          445000.0    22402.0  \n",
       "1                    2019          293000.0    10344.0  \n",
       "2                    2021         2249000.0    12999.0  \n",
       "3                    2016          695000.0    45000.0  \n",
       "4                    2019         1200000.0    11193.0  \n",
       "...                   ...               ...        ...  \n",
       "2100                 2015          360000.0    42158.0  \n",
       "2101                 2013         2200000.0    68862.0  \n",
       "2102                 2018          838000.0    37622.0  \n",
       "2103                 2017          675000.0    64726.0  \n",
       "2104                 2017          876000.0    29150.0  \n",
       "\n",
       "[2105 rows x 6 columns]"
      ]
     },
     "execution_count": 281,
     "metadata": {},
     "output_type": "execute_result"
    }
   ],
   "source": [
    "# convert km to number\n",
    "df[\"driven_Km\"] = df[\"kms_driven\"].apply(con_km)\n",
    "df.drop(\"kms_driven\",axis=\"columns\")"
   ]
  },
  {
   "cell_type": "code",
   "execution_count": 282,
   "metadata": {},
   "outputs": [
    {
     "data": {
      "text/plain": [
       "array(['Petrol', 'Diesel', 'Diesel + 1', 'Electric', 'CNG', 'Petrol + 1',\n",
       "       'Hybrid', 'LPG'], dtype=object)"
      ]
     },
     "execution_count": 282,
     "metadata": {},
     "output_type": "execute_result"
    }
   ],
   "source": [
    "df[\"fuel_type\"].unique()"
   ]
  },
  {
   "cell_type": "code",
   "execution_count": 283,
   "metadata": {},
   "outputs": [
    {
     "data": {
      "text/plain": [
       "array(['Mumbai', 'Kolkata', 'Bangalore', 'Thane', 'Chennai', 'Ahmedabad',\n",
       "       'Pallikarnai', 'Hyderabad', 'Pune', 'Gurgaon', 'Delhi', 'Noida',\n",
       "       'Faridabad', 'Thiruvallur', 'Ambattur', 'Poonamallee'],\n",
       "      dtype=object)"
      ]
     },
     "execution_count": 283,
     "metadata": {},
     "output_type": "execute_result"
    }
   ],
   "source": [
    "df[\"city\"].unique()"
   ]
  },
  {
   "cell_type": "code",
   "execution_count": 284,
   "metadata": {},
   "outputs": [],
   "source": [
    "df = df.drop(\"kms_driven\", axis=\"columns\")"
   ]
  },
  {
   "cell_type": "code",
   "execution_count": 285,
   "metadata": {},
   "outputs": [
    {
     "data": {
      "text/html": [
       "<div>\n",
       "<style scoped>\n",
       "    .dataframe tbody tr th:only-of-type {\n",
       "        vertical-align: middle;\n",
       "    }\n",
       "\n",
       "    .dataframe tbody tr th {\n",
       "        vertical-align: top;\n",
       "    }\n",
       "\n",
       "    .dataframe thead th {\n",
       "        text-align: right;\n",
       "    }\n",
       "</style>\n",
       "<table border=\"1\" class=\"dataframe\">\n",
       "  <thead>\n",
       "    <tr style=\"text-align: right;\">\n",
       "      <th></th>\n",
       "      <th>car_name</th>\n",
       "      <th>fuel_type</th>\n",
       "      <th>city</th>\n",
       "      <th>year_of_manufacture</th>\n",
       "      <th>car_price_in_num</th>\n",
       "      <th>driven_Km</th>\n",
       "    </tr>\n",
       "  </thead>\n",
       "  <tbody>\n",
       "    <tr>\n",
       "      <th>0</th>\n",
       "      <td>Hyundai Grand i10 Magna 1.2 Kappa VTVT [2017-2...</td>\n",
       "      <td>Petrol</td>\n",
       "      <td>Mumbai</td>\n",
       "      <td>2016</td>\n",
       "      <td>445000.0</td>\n",
       "      <td>22402.0</td>\n",
       "    </tr>\n",
       "    <tr>\n",
       "      <th>1</th>\n",
       "      <td>Maruti Suzuki Alto 800 Lxi</td>\n",
       "      <td>Petrol</td>\n",
       "      <td>Kolkata</td>\n",
       "      <td>2019</td>\n",
       "      <td>293000.0</td>\n",
       "      <td>10344.0</td>\n",
       "    </tr>\n",
       "    <tr>\n",
       "      <th>2</th>\n",
       "      <td>Tata Safari XZ Plus New</td>\n",
       "      <td>Diesel</td>\n",
       "      <td>Bangalore</td>\n",
       "      <td>2021</td>\n",
       "      <td>2249000.0</td>\n",
       "      <td>12999.0</td>\n",
       "    </tr>\n",
       "    <tr>\n",
       "      <th>3</th>\n",
       "      <td>Maruti Suzuki Ciaz ZXI+</td>\n",
       "      <td>Petrol</td>\n",
       "      <td>Thane</td>\n",
       "      <td>2016</td>\n",
       "      <td>695000.0</td>\n",
       "      <td>45000.0</td>\n",
       "    </tr>\n",
       "    <tr>\n",
       "      <th>4</th>\n",
       "      <td>Jeep Compass Sport Plus 1.4 Petrol [2019-2020]</td>\n",
       "      <td>Petrol</td>\n",
       "      <td>Kolkata</td>\n",
       "      <td>2019</td>\n",
       "      <td>1200000.0</td>\n",
       "      <td>11193.0</td>\n",
       "    </tr>\n",
       "    <tr>\n",
       "      <th>...</th>\n",
       "      <td>...</td>\n",
       "      <td>...</td>\n",
       "      <td>...</td>\n",
       "      <td>...</td>\n",
       "      <td>...</td>\n",
       "      <td>...</td>\n",
       "    </tr>\n",
       "    <tr>\n",
       "      <th>2100</th>\n",
       "      <td>Ford Figo Titanium1.5 TDCi</td>\n",
       "      <td>Diesel</td>\n",
       "      <td>Kolkata</td>\n",
       "      <td>2015</td>\n",
       "      <td>360000.0</td>\n",
       "      <td>42158.0</td>\n",
       "    </tr>\n",
       "    <tr>\n",
       "      <th>2101</th>\n",
       "      <td>MINI Cooper Countryman Cooper D</td>\n",
       "      <td>Diesel</td>\n",
       "      <td>Hyderabad</td>\n",
       "      <td>2013</td>\n",
       "      <td>2200000.0</td>\n",
       "      <td>68862.0</td>\n",
       "    </tr>\n",
       "    <tr>\n",
       "      <th>2102</th>\n",
       "      <td>Hyundai Verna 1.6 VTVT SX</td>\n",
       "      <td>Petrol</td>\n",
       "      <td>Chennai</td>\n",
       "      <td>2018</td>\n",
       "      <td>838000.0</td>\n",
       "      <td>37622.0</td>\n",
       "    </tr>\n",
       "    <tr>\n",
       "      <th>2103</th>\n",
       "      <td>Maruti Suzuki Ciaz VXi+ AT</td>\n",
       "      <td>Petrol</td>\n",
       "      <td>Mumbai</td>\n",
       "      <td>2017</td>\n",
       "      <td>675000.0</td>\n",
       "      <td>64726.0</td>\n",
       "    </tr>\n",
       "    <tr>\n",
       "      <th>2104</th>\n",
       "      <td>Hyundai Verna 1.6 VTVT SX</td>\n",
       "      <td>Petrol</td>\n",
       "      <td>Pune</td>\n",
       "      <td>2017</td>\n",
       "      <td>876000.0</td>\n",
       "      <td>29150.0</td>\n",
       "    </tr>\n",
       "  </tbody>\n",
       "</table>\n",
       "<p>2105 rows × 6 columns</p>\n",
       "</div>"
      ],
      "text/plain": [
       "                                               car_name fuel_type       city  \\\n",
       "0     Hyundai Grand i10 Magna 1.2 Kappa VTVT [2017-2...    Petrol     Mumbai   \n",
       "1                            Maruti Suzuki Alto 800 Lxi    Petrol    Kolkata   \n",
       "2                               Tata Safari XZ Plus New    Diesel  Bangalore   \n",
       "3                               Maruti Suzuki Ciaz ZXI+    Petrol      Thane   \n",
       "4        Jeep Compass Sport Plus 1.4 Petrol [2019-2020]    Petrol    Kolkata   \n",
       "...                                                 ...       ...        ...   \n",
       "2100                         Ford Figo Titanium1.5 TDCi    Diesel    Kolkata   \n",
       "2101                    MINI Cooper Countryman Cooper D    Diesel  Hyderabad   \n",
       "2102                          Hyundai Verna 1.6 VTVT SX    Petrol    Chennai   \n",
       "2103                         Maruti Suzuki Ciaz VXi+ AT    Petrol     Mumbai   \n",
       "2104                          Hyundai Verna 1.6 VTVT SX    Petrol       Pune   \n",
       "\n",
       "      year_of_manufacture  car_price_in_num  driven_Km  \n",
       "0                    2016          445000.0    22402.0  \n",
       "1                    2019          293000.0    10344.0  \n",
       "2                    2021         2249000.0    12999.0  \n",
       "3                    2016          695000.0    45000.0  \n",
       "4                    2019         1200000.0    11193.0  \n",
       "...                   ...               ...        ...  \n",
       "2100                 2015          360000.0    42158.0  \n",
       "2101                 2013         2200000.0    68862.0  \n",
       "2102                 2018          838000.0    37622.0  \n",
       "2103                 2017          675000.0    64726.0  \n",
       "2104                 2017          876000.0    29150.0  \n",
       "\n",
       "[2105 rows x 6 columns]"
      ]
     },
     "execution_count": 285,
     "metadata": {},
     "output_type": "execute_result"
    }
   ],
   "source": [
    "df"
   ]
  },
  {
   "cell_type": "code",
   "execution_count": 286,
   "metadata": {},
   "outputs": [
    {
     "data": {
      "text/plain": [
       "Maruti Suzuki Wagon R 1.0 VXI        25\n",
       "Maruti Suzuki Alto 800 Lxi           23\n",
       "Maruti Suzuki Wagon R 1.0 LXI CNG    21\n",
       "Maruti Suzuki Baleno Delta 1.2       18\n",
       "Honda City V                         17\n",
       "                                     ..\n",
       "Ford Fiesta Exi 1.6 Duratec Ltd       1\n",
       "Renault Triber RXZ                    1\n",
       "BMW 7 Series 730Ld                    1\n",
       "Nissan Sunny XL D                     1\n",
       "Maruti Suzuki Ciaz VXi+ AT            1\n",
       "Name: car_name, Length: 946, dtype: int64"
      ]
     },
     "execution_count": 286,
     "metadata": {},
     "output_type": "execute_result"
    }
   ],
   "source": [
    "count_car = df[\"car_name\"].value_counts()\n",
    "count_car"
   ]
  },
  {
   "cell_type": "code",
   "execution_count": 287,
   "metadata": {},
   "outputs": [],
   "source": [
    "def car_name_short(x):\n",
    "    words = x.split()\n",
    "    result = ' '.join(words[:1])\n",
    "    return result\n"
   ]
  },
  {
   "cell_type": "code",
   "execution_count": 288,
   "metadata": {},
   "outputs": [],
   "source": [
    "# reducing car name to reduce complexity\n",
    "df[\"car_name\"] = df[\"car_name\"].apply(car_name_short)"
   ]
  },
  {
   "cell_type": "code",
   "execution_count": 289,
   "metadata": {},
   "outputs": [
    {
     "data": {
      "text/plain": [
       "Maruti           567\n",
       "Hyundai          443\n",
       "Honda            225\n",
       "Toyota            93\n",
       "Tata              83\n",
       "Mercedes-Benz     70\n",
       "Ford              70\n",
       "Renault           67\n",
       "Mahindra          65\n",
       "Volkswagen        63\n",
       "Audi              62\n",
       "BMW               56\n",
       "Skoda             49\n",
       "Kia               41\n",
       "Jeep              30\n",
       "MG                27\n",
       "Land              20\n",
       "Nissan            18\n",
       "Volvo             13\n",
       "Datsun            13\n",
       "Jaguar             9\n",
       "Chevrolet          6\n",
       "Isuzu              4\n",
       "MINI               4\n",
       "Fiat               3\n",
       "Porsche            2\n",
       "Citroen            1\n",
       "Bentley            1\n",
       "Name: car_name, dtype: int64"
      ]
     },
     "execution_count": 289,
     "metadata": {},
     "output_type": "execute_result"
    }
   ],
   "source": [
    "count_car = df[\"car_name\"].value_counts()\n",
    "count_car"
   ]
  },
  {
   "cell_type": "code",
   "execution_count": 290,
   "metadata": {},
   "outputs": [
    {
     "data": {
      "text/html": [
       "<div>\n",
       "<style scoped>\n",
       "    .dataframe tbody tr th:only-of-type {\n",
       "        vertical-align: middle;\n",
       "    }\n",
       "\n",
       "    .dataframe tbody tr th {\n",
       "        vertical-align: top;\n",
       "    }\n",
       "\n",
       "    .dataframe thead th {\n",
       "        text-align: right;\n",
       "    }\n",
       "</style>\n",
       "<table border=\"1\" class=\"dataframe\">\n",
       "  <thead>\n",
       "    <tr style=\"text-align: right;\">\n",
       "      <th></th>\n",
       "      <th>car_name</th>\n",
       "      <th>fuel_type</th>\n",
       "      <th>city</th>\n",
       "      <th>year_of_manufacture</th>\n",
       "      <th>car_price_in_num</th>\n",
       "      <th>driven_Km</th>\n",
       "    </tr>\n",
       "  </thead>\n",
       "  <tbody>\n",
       "    <tr>\n",
       "      <th>0</th>\n",
       "      <td>Hyundai</td>\n",
       "      <td>Petrol</td>\n",
       "      <td>Mumbai</td>\n",
       "      <td>2016</td>\n",
       "      <td>445000.0</td>\n",
       "      <td>22402.0</td>\n",
       "    </tr>\n",
       "    <tr>\n",
       "      <th>1</th>\n",
       "      <td>Maruti</td>\n",
       "      <td>Petrol</td>\n",
       "      <td>Kolkata</td>\n",
       "      <td>2019</td>\n",
       "      <td>293000.0</td>\n",
       "      <td>10344.0</td>\n",
       "    </tr>\n",
       "    <tr>\n",
       "      <th>2</th>\n",
       "      <td>Tata</td>\n",
       "      <td>Diesel</td>\n",
       "      <td>Bangalore</td>\n",
       "      <td>2021</td>\n",
       "      <td>2249000.0</td>\n",
       "      <td>12999.0</td>\n",
       "    </tr>\n",
       "    <tr>\n",
       "      <th>3</th>\n",
       "      <td>Maruti</td>\n",
       "      <td>Petrol</td>\n",
       "      <td>Thane</td>\n",
       "      <td>2016</td>\n",
       "      <td>695000.0</td>\n",
       "      <td>45000.0</td>\n",
       "    </tr>\n",
       "    <tr>\n",
       "      <th>4</th>\n",
       "      <td>Jeep</td>\n",
       "      <td>Petrol</td>\n",
       "      <td>Kolkata</td>\n",
       "      <td>2019</td>\n",
       "      <td>1200000.0</td>\n",
       "      <td>11193.0</td>\n",
       "    </tr>\n",
       "  </tbody>\n",
       "</table>\n",
       "</div>"
      ],
      "text/plain": [
       "  car_name fuel_type       city  year_of_manufacture  car_price_in_num  \\\n",
       "0  Hyundai    Petrol     Mumbai                 2016          445000.0   \n",
       "1   Maruti    Petrol    Kolkata                 2019          293000.0   \n",
       "2     Tata    Diesel  Bangalore                 2021         2249000.0   \n",
       "3   Maruti    Petrol      Thane                 2016          695000.0   \n",
       "4     Jeep    Petrol    Kolkata                 2019         1200000.0   \n",
       "\n",
       "   driven_Km  \n",
       "0    22402.0  \n",
       "1    10344.0  \n",
       "2    12999.0  \n",
       "3    45000.0  \n",
       "4    11193.0  "
      ]
     },
     "execution_count": 290,
     "metadata": {},
     "output_type": "execute_result"
    }
   ],
   "source": [
    "df.head()"
   ]
  },
  {
   "cell_type": "code",
   "execution_count": 291,
   "metadata": {},
   "outputs": [
    {
     "data": {
      "text/html": [
       "<div>\n",
       "<style scoped>\n",
       "    .dataframe tbody tr th:only-of-type {\n",
       "        vertical-align: middle;\n",
       "    }\n",
       "\n",
       "    .dataframe tbody tr th {\n",
       "        vertical-align: top;\n",
       "    }\n",
       "\n",
       "    .dataframe thead th {\n",
       "        text-align: right;\n",
       "    }\n",
       "</style>\n",
       "<table border=\"1\" class=\"dataframe\">\n",
       "  <thead>\n",
       "    <tr style=\"text-align: right;\">\n",
       "      <th></th>\n",
       "      <th>car_name</th>\n",
       "      <th>fuel_type</th>\n",
       "      <th>city</th>\n",
       "      <th>year_of_manufacture</th>\n",
       "      <th>car_price_in_num</th>\n",
       "      <th>driven_Km</th>\n",
       "      <th>Audi</th>\n",
       "      <th>BMW</th>\n",
       "      <th>Bentley</th>\n",
       "      <th>Chevrolet</th>\n",
       "      <th>...</th>\n",
       "      <th>Gurgaon</th>\n",
       "      <th>Hyderabad</th>\n",
       "      <th>Kolkata</th>\n",
       "      <th>Mumbai</th>\n",
       "      <th>Noida</th>\n",
       "      <th>Pallikarnai</th>\n",
       "      <th>Poonamallee</th>\n",
       "      <th>Pune</th>\n",
       "      <th>Thane</th>\n",
       "      <th>Thiruvallur</th>\n",
       "    </tr>\n",
       "  </thead>\n",
       "  <tbody>\n",
       "    <tr>\n",
       "      <th>0</th>\n",
       "      <td>Hyundai</td>\n",
       "      <td>Petrol</td>\n",
       "      <td>Mumbai</td>\n",
       "      <td>2016</td>\n",
       "      <td>445000.0</td>\n",
       "      <td>22402.0</td>\n",
       "      <td>0</td>\n",
       "      <td>0</td>\n",
       "      <td>0</td>\n",
       "      <td>0</td>\n",
       "      <td>...</td>\n",
       "      <td>0</td>\n",
       "      <td>0</td>\n",
       "      <td>0</td>\n",
       "      <td>1</td>\n",
       "      <td>0</td>\n",
       "      <td>0</td>\n",
       "      <td>0</td>\n",
       "      <td>0</td>\n",
       "      <td>0</td>\n",
       "      <td>0</td>\n",
       "    </tr>\n",
       "    <tr>\n",
       "      <th>1</th>\n",
       "      <td>Maruti</td>\n",
       "      <td>Petrol</td>\n",
       "      <td>Kolkata</td>\n",
       "      <td>2019</td>\n",
       "      <td>293000.0</td>\n",
       "      <td>10344.0</td>\n",
       "      <td>0</td>\n",
       "      <td>0</td>\n",
       "      <td>0</td>\n",
       "      <td>0</td>\n",
       "      <td>...</td>\n",
       "      <td>0</td>\n",
       "      <td>0</td>\n",
       "      <td>1</td>\n",
       "      <td>0</td>\n",
       "      <td>0</td>\n",
       "      <td>0</td>\n",
       "      <td>0</td>\n",
       "      <td>0</td>\n",
       "      <td>0</td>\n",
       "      <td>0</td>\n",
       "    </tr>\n",
       "    <tr>\n",
       "      <th>2</th>\n",
       "      <td>Tata</td>\n",
       "      <td>Diesel</td>\n",
       "      <td>Bangalore</td>\n",
       "      <td>2021</td>\n",
       "      <td>2249000.0</td>\n",
       "      <td>12999.0</td>\n",
       "      <td>0</td>\n",
       "      <td>0</td>\n",
       "      <td>0</td>\n",
       "      <td>0</td>\n",
       "      <td>...</td>\n",
       "      <td>0</td>\n",
       "      <td>0</td>\n",
       "      <td>0</td>\n",
       "      <td>0</td>\n",
       "      <td>0</td>\n",
       "      <td>0</td>\n",
       "      <td>0</td>\n",
       "      <td>0</td>\n",
       "      <td>0</td>\n",
       "      <td>0</td>\n",
       "    </tr>\n",
       "    <tr>\n",
       "      <th>3</th>\n",
       "      <td>Maruti</td>\n",
       "      <td>Petrol</td>\n",
       "      <td>Thane</td>\n",
       "      <td>2016</td>\n",
       "      <td>695000.0</td>\n",
       "      <td>45000.0</td>\n",
       "      <td>0</td>\n",
       "      <td>0</td>\n",
       "      <td>0</td>\n",
       "      <td>0</td>\n",
       "      <td>...</td>\n",
       "      <td>0</td>\n",
       "      <td>0</td>\n",
       "      <td>0</td>\n",
       "      <td>0</td>\n",
       "      <td>0</td>\n",
       "      <td>0</td>\n",
       "      <td>0</td>\n",
       "      <td>0</td>\n",
       "      <td>1</td>\n",
       "      <td>0</td>\n",
       "    </tr>\n",
       "    <tr>\n",
       "      <th>4</th>\n",
       "      <td>Jeep</td>\n",
       "      <td>Petrol</td>\n",
       "      <td>Kolkata</td>\n",
       "      <td>2019</td>\n",
       "      <td>1200000.0</td>\n",
       "      <td>11193.0</td>\n",
       "      <td>0</td>\n",
       "      <td>0</td>\n",
       "      <td>0</td>\n",
       "      <td>0</td>\n",
       "      <td>...</td>\n",
       "      <td>0</td>\n",
       "      <td>0</td>\n",
       "      <td>1</td>\n",
       "      <td>0</td>\n",
       "      <td>0</td>\n",
       "      <td>0</td>\n",
       "      <td>0</td>\n",
       "      <td>0</td>\n",
       "      <td>0</td>\n",
       "      <td>0</td>\n",
       "    </tr>\n",
       "  </tbody>\n",
       "</table>\n",
       "<p>5 rows × 58 columns</p>\n",
       "</div>"
      ],
      "text/plain": [
       "  car_name fuel_type       city  year_of_manufacture  car_price_in_num  \\\n",
       "0  Hyundai    Petrol     Mumbai                 2016          445000.0   \n",
       "1   Maruti    Petrol    Kolkata                 2019          293000.0   \n",
       "2     Tata    Diesel  Bangalore                 2021         2249000.0   \n",
       "3   Maruti    Petrol      Thane                 2016          695000.0   \n",
       "4     Jeep    Petrol    Kolkata                 2019         1200000.0   \n",
       "\n",
       "   driven_Km  Audi  BMW  Bentley  Chevrolet  ...  Gurgaon  Hyderabad  Kolkata  \\\n",
       "0    22402.0     0    0        0          0  ...        0          0        0   \n",
       "1    10344.0     0    0        0          0  ...        0          0        1   \n",
       "2    12999.0     0    0        0          0  ...        0          0        0   \n",
       "3    45000.0     0    0        0          0  ...        0          0        0   \n",
       "4    11193.0     0    0        0          0  ...        0          0        1   \n",
       "\n",
       "   Mumbai  Noida  Pallikarnai  Poonamallee  Pune  Thane  Thiruvallur  \n",
       "0       1      0            0            0     0      0            0  \n",
       "1       0      0            0            0     0      0            0  \n",
       "2       0      0            0            0     0      0            0  \n",
       "3       0      0            0            0     0      1            0  \n",
       "4       0      0            0            0     0      0            0  \n",
       "\n",
       "[5 rows x 58 columns]"
      ]
     },
     "execution_count": 291,
     "metadata": {},
     "output_type": "execute_result"
    }
   ],
   "source": [
    "dummies = pd.get_dummies(df.car_name)\n",
    "df = pd.concat([df, dummies],axis=1)\n",
    "dummies_2 = pd.get_dummies(df.fuel_type)\n",
    "df = pd.concat([df, dummies_2],axis=1)\n",
    "dummies_3 = pd.get_dummies(df.city)\n",
    "df = pd.concat([df, dummies_3],axis=1)\n",
    "df.head()"
   ]
  },
  {
   "cell_type": "markdown",
   "metadata": {},
   "source": [
    "feature selection"
   ]
  },
  {
   "cell_type": "code",
   "execution_count": 292,
   "metadata": {},
   "outputs": [
    {
     "data": {
      "text/html": [
       "<div>\n",
       "<style scoped>\n",
       "    .dataframe tbody tr th:only-of-type {\n",
       "        vertical-align: middle;\n",
       "    }\n",
       "\n",
       "    .dataframe tbody tr th {\n",
       "        vertical-align: top;\n",
       "    }\n",
       "\n",
       "    .dataframe thead th {\n",
       "        text-align: right;\n",
       "    }\n",
       "</style>\n",
       "<table border=\"1\" class=\"dataframe\">\n",
       "  <thead>\n",
       "    <tr style=\"text-align: right;\">\n",
       "      <th></th>\n",
       "      <th>year_of_manufacture</th>\n",
       "      <th>driven_Km</th>\n",
       "      <th>Audi</th>\n",
       "      <th>BMW</th>\n",
       "      <th>Bentley</th>\n",
       "      <th>Chevrolet</th>\n",
       "      <th>Citroen</th>\n",
       "      <th>Datsun</th>\n",
       "      <th>Fiat</th>\n",
       "      <th>Ford</th>\n",
       "      <th>...</th>\n",
       "      <th>Gurgaon</th>\n",
       "      <th>Hyderabad</th>\n",
       "      <th>Kolkata</th>\n",
       "      <th>Mumbai</th>\n",
       "      <th>Noida</th>\n",
       "      <th>Pallikarnai</th>\n",
       "      <th>Poonamallee</th>\n",
       "      <th>Pune</th>\n",
       "      <th>Thane</th>\n",
       "      <th>Thiruvallur</th>\n",
       "    </tr>\n",
       "  </thead>\n",
       "  <tbody>\n",
       "    <tr>\n",
       "      <th>0</th>\n",
       "      <td>2016</td>\n",
       "      <td>22402.0</td>\n",
       "      <td>0</td>\n",
       "      <td>0</td>\n",
       "      <td>0</td>\n",
       "      <td>0</td>\n",
       "      <td>0</td>\n",
       "      <td>0</td>\n",
       "      <td>0</td>\n",
       "      <td>0</td>\n",
       "      <td>...</td>\n",
       "      <td>0</td>\n",
       "      <td>0</td>\n",
       "      <td>0</td>\n",
       "      <td>1</td>\n",
       "      <td>0</td>\n",
       "      <td>0</td>\n",
       "      <td>0</td>\n",
       "      <td>0</td>\n",
       "      <td>0</td>\n",
       "      <td>0</td>\n",
       "    </tr>\n",
       "    <tr>\n",
       "      <th>1</th>\n",
       "      <td>2019</td>\n",
       "      <td>10344.0</td>\n",
       "      <td>0</td>\n",
       "      <td>0</td>\n",
       "      <td>0</td>\n",
       "      <td>0</td>\n",
       "      <td>0</td>\n",
       "      <td>0</td>\n",
       "      <td>0</td>\n",
       "      <td>0</td>\n",
       "      <td>...</td>\n",
       "      <td>0</td>\n",
       "      <td>0</td>\n",
       "      <td>1</td>\n",
       "      <td>0</td>\n",
       "      <td>0</td>\n",
       "      <td>0</td>\n",
       "      <td>0</td>\n",
       "      <td>0</td>\n",
       "      <td>0</td>\n",
       "      <td>0</td>\n",
       "    </tr>\n",
       "    <tr>\n",
       "      <th>2</th>\n",
       "      <td>2021</td>\n",
       "      <td>12999.0</td>\n",
       "      <td>0</td>\n",
       "      <td>0</td>\n",
       "      <td>0</td>\n",
       "      <td>0</td>\n",
       "      <td>0</td>\n",
       "      <td>0</td>\n",
       "      <td>0</td>\n",
       "      <td>0</td>\n",
       "      <td>...</td>\n",
       "      <td>0</td>\n",
       "      <td>0</td>\n",
       "      <td>0</td>\n",
       "      <td>0</td>\n",
       "      <td>0</td>\n",
       "      <td>0</td>\n",
       "      <td>0</td>\n",
       "      <td>0</td>\n",
       "      <td>0</td>\n",
       "      <td>0</td>\n",
       "    </tr>\n",
       "    <tr>\n",
       "      <th>3</th>\n",
       "      <td>2016</td>\n",
       "      <td>45000.0</td>\n",
       "      <td>0</td>\n",
       "      <td>0</td>\n",
       "      <td>0</td>\n",
       "      <td>0</td>\n",
       "      <td>0</td>\n",
       "      <td>0</td>\n",
       "      <td>0</td>\n",
       "      <td>0</td>\n",
       "      <td>...</td>\n",
       "      <td>0</td>\n",
       "      <td>0</td>\n",
       "      <td>0</td>\n",
       "      <td>0</td>\n",
       "      <td>0</td>\n",
       "      <td>0</td>\n",
       "      <td>0</td>\n",
       "      <td>0</td>\n",
       "      <td>1</td>\n",
       "      <td>0</td>\n",
       "    </tr>\n",
       "    <tr>\n",
       "      <th>4</th>\n",
       "      <td>2019</td>\n",
       "      <td>11193.0</td>\n",
       "      <td>0</td>\n",
       "      <td>0</td>\n",
       "      <td>0</td>\n",
       "      <td>0</td>\n",
       "      <td>0</td>\n",
       "      <td>0</td>\n",
       "      <td>0</td>\n",
       "      <td>0</td>\n",
       "      <td>...</td>\n",
       "      <td>0</td>\n",
       "      <td>0</td>\n",
       "      <td>1</td>\n",
       "      <td>0</td>\n",
       "      <td>0</td>\n",
       "      <td>0</td>\n",
       "      <td>0</td>\n",
       "      <td>0</td>\n",
       "      <td>0</td>\n",
       "      <td>0</td>\n",
       "    </tr>\n",
       "    <tr>\n",
       "      <th>...</th>\n",
       "      <td>...</td>\n",
       "      <td>...</td>\n",
       "      <td>...</td>\n",
       "      <td>...</td>\n",
       "      <td>...</td>\n",
       "      <td>...</td>\n",
       "      <td>...</td>\n",
       "      <td>...</td>\n",
       "      <td>...</td>\n",
       "      <td>...</td>\n",
       "      <td>...</td>\n",
       "      <td>...</td>\n",
       "      <td>...</td>\n",
       "      <td>...</td>\n",
       "      <td>...</td>\n",
       "      <td>...</td>\n",
       "      <td>...</td>\n",
       "      <td>...</td>\n",
       "      <td>...</td>\n",
       "      <td>...</td>\n",
       "      <td>...</td>\n",
       "    </tr>\n",
       "    <tr>\n",
       "      <th>2100</th>\n",
       "      <td>2015</td>\n",
       "      <td>42158.0</td>\n",
       "      <td>0</td>\n",
       "      <td>0</td>\n",
       "      <td>0</td>\n",
       "      <td>0</td>\n",
       "      <td>0</td>\n",
       "      <td>0</td>\n",
       "      <td>0</td>\n",
       "      <td>1</td>\n",
       "      <td>...</td>\n",
       "      <td>0</td>\n",
       "      <td>0</td>\n",
       "      <td>1</td>\n",
       "      <td>0</td>\n",
       "      <td>0</td>\n",
       "      <td>0</td>\n",
       "      <td>0</td>\n",
       "      <td>0</td>\n",
       "      <td>0</td>\n",
       "      <td>0</td>\n",
       "    </tr>\n",
       "    <tr>\n",
       "      <th>2101</th>\n",
       "      <td>2013</td>\n",
       "      <td>68862.0</td>\n",
       "      <td>0</td>\n",
       "      <td>0</td>\n",
       "      <td>0</td>\n",
       "      <td>0</td>\n",
       "      <td>0</td>\n",
       "      <td>0</td>\n",
       "      <td>0</td>\n",
       "      <td>0</td>\n",
       "      <td>...</td>\n",
       "      <td>0</td>\n",
       "      <td>1</td>\n",
       "      <td>0</td>\n",
       "      <td>0</td>\n",
       "      <td>0</td>\n",
       "      <td>0</td>\n",
       "      <td>0</td>\n",
       "      <td>0</td>\n",
       "      <td>0</td>\n",
       "      <td>0</td>\n",
       "    </tr>\n",
       "    <tr>\n",
       "      <th>2102</th>\n",
       "      <td>2018</td>\n",
       "      <td>37622.0</td>\n",
       "      <td>0</td>\n",
       "      <td>0</td>\n",
       "      <td>0</td>\n",
       "      <td>0</td>\n",
       "      <td>0</td>\n",
       "      <td>0</td>\n",
       "      <td>0</td>\n",
       "      <td>0</td>\n",
       "      <td>...</td>\n",
       "      <td>0</td>\n",
       "      <td>0</td>\n",
       "      <td>0</td>\n",
       "      <td>0</td>\n",
       "      <td>0</td>\n",
       "      <td>0</td>\n",
       "      <td>0</td>\n",
       "      <td>0</td>\n",
       "      <td>0</td>\n",
       "      <td>0</td>\n",
       "    </tr>\n",
       "    <tr>\n",
       "      <th>2103</th>\n",
       "      <td>2017</td>\n",
       "      <td>64726.0</td>\n",
       "      <td>0</td>\n",
       "      <td>0</td>\n",
       "      <td>0</td>\n",
       "      <td>0</td>\n",
       "      <td>0</td>\n",
       "      <td>0</td>\n",
       "      <td>0</td>\n",
       "      <td>0</td>\n",
       "      <td>...</td>\n",
       "      <td>0</td>\n",
       "      <td>0</td>\n",
       "      <td>0</td>\n",
       "      <td>1</td>\n",
       "      <td>0</td>\n",
       "      <td>0</td>\n",
       "      <td>0</td>\n",
       "      <td>0</td>\n",
       "      <td>0</td>\n",
       "      <td>0</td>\n",
       "    </tr>\n",
       "    <tr>\n",
       "      <th>2104</th>\n",
       "      <td>2017</td>\n",
       "      <td>29150.0</td>\n",
       "      <td>0</td>\n",
       "      <td>0</td>\n",
       "      <td>0</td>\n",
       "      <td>0</td>\n",
       "      <td>0</td>\n",
       "      <td>0</td>\n",
       "      <td>0</td>\n",
       "      <td>0</td>\n",
       "      <td>...</td>\n",
       "      <td>0</td>\n",
       "      <td>0</td>\n",
       "      <td>0</td>\n",
       "      <td>0</td>\n",
       "      <td>0</td>\n",
       "      <td>0</td>\n",
       "      <td>0</td>\n",
       "      <td>1</td>\n",
       "      <td>0</td>\n",
       "      <td>0</td>\n",
       "    </tr>\n",
       "  </tbody>\n",
       "</table>\n",
       "<p>2105 rows × 54 columns</p>\n",
       "</div>"
      ],
      "text/plain": [
       "      year_of_manufacture  driven_Km  Audi  BMW  Bentley  Chevrolet  Citroen  \\\n",
       "0                    2016    22402.0     0    0        0          0        0   \n",
       "1                    2019    10344.0     0    0        0          0        0   \n",
       "2                    2021    12999.0     0    0        0          0        0   \n",
       "3                    2016    45000.0     0    0        0          0        0   \n",
       "4                    2019    11193.0     0    0        0          0        0   \n",
       "...                   ...        ...   ...  ...      ...        ...      ...   \n",
       "2100                 2015    42158.0     0    0        0          0        0   \n",
       "2101                 2013    68862.0     0    0        0          0        0   \n",
       "2102                 2018    37622.0     0    0        0          0        0   \n",
       "2103                 2017    64726.0     0    0        0          0        0   \n",
       "2104                 2017    29150.0     0    0        0          0        0   \n",
       "\n",
       "      Datsun  Fiat  Ford  ...  Gurgaon  Hyderabad  Kolkata  Mumbai  Noida  \\\n",
       "0          0     0     0  ...        0          0        0       1      0   \n",
       "1          0     0     0  ...        0          0        1       0      0   \n",
       "2          0     0     0  ...        0          0        0       0      0   \n",
       "3          0     0     0  ...        0          0        0       0      0   \n",
       "4          0     0     0  ...        0          0        1       0      0   \n",
       "...      ...   ...   ...  ...      ...        ...      ...     ...    ...   \n",
       "2100       0     0     1  ...        0          0        1       0      0   \n",
       "2101       0     0     0  ...        0          1        0       0      0   \n",
       "2102       0     0     0  ...        0          0        0       0      0   \n",
       "2103       0     0     0  ...        0          0        0       1      0   \n",
       "2104       0     0     0  ...        0          0        0       0      0   \n",
       "\n",
       "      Pallikarnai  Poonamallee  Pune  Thane  Thiruvallur  \n",
       "0               0            0     0      0            0  \n",
       "1               0            0     0      0            0  \n",
       "2               0            0     0      0            0  \n",
       "3               0            0     0      1            0  \n",
       "4               0            0     0      0            0  \n",
       "...           ...          ...   ...    ...          ...  \n",
       "2100            0            0     0      0            0  \n",
       "2101            0            0     0      0            0  \n",
       "2102            0            0     0      0            0  \n",
       "2103            0            0     0      0            0  \n",
       "2104            0            0     1      0            0  \n",
       "\n",
       "[2105 rows x 54 columns]"
      ]
     },
     "execution_count": 292,
     "metadata": {},
     "output_type": "execute_result"
    }
   ],
   "source": [
    "x = df.drop([\"car_price_in_num\",\"city\",\"fuel_type\",\"car_name\"], axis=1)\n",
    "x"
   ]
  },
  {
   "cell_type": "code",
   "execution_count": 293,
   "metadata": {},
   "outputs": [
    {
     "data": {
      "text/plain": [
       "0        445000.0\n",
       "1        293000.0\n",
       "2       2249000.0\n",
       "3        695000.0\n",
       "4       1200000.0\n",
       "          ...    \n",
       "2100     360000.0\n",
       "2101    2200000.0\n",
       "2102     838000.0\n",
       "2103     675000.0\n",
       "2104     876000.0\n",
       "Name: car_price_in_num, Length: 2105, dtype: float64"
      ]
     },
     "execution_count": 293,
     "metadata": {},
     "output_type": "execute_result"
    }
   ],
   "source": [
    "y = df[\"car_price_in_num\"]\n",
    "y"
   ]
  },
  {
   "cell_type": "markdown",
   "metadata": {},
   "source": [
    "LINEAR REGRESSION"
   ]
  },
  {
   "cell_type": "markdown",
   "metadata": {},
   "source": [
    "data splitting"
   ]
  },
  {
   "cell_type": "code",
   "execution_count": 294,
   "metadata": {},
   "outputs": [],
   "source": [
    "from sklearn.model_selection import train_test_split\n",
    "x_train,x_test,y_train,y_test = train_test_split(x,y,test_size=0.2)"
   ]
  },
  {
   "cell_type": "markdown",
   "metadata": {},
   "source": [
    "model selection"
   ]
  },
  {
   "cell_type": "code",
   "execution_count": 295,
   "metadata": {},
   "outputs": [],
   "source": [
    "from sklearn.linear_model import LinearRegression\n",
    "from sklearn.model_selection import cross_val_score"
   ]
  },
  {
   "cell_type": "markdown",
   "metadata": {},
   "source": [
    "model training"
   ]
  },
  {
   "cell_type": "code",
   "execution_count": 296,
   "metadata": {},
   "outputs": [
    {
     "data": {
      "text/plain": [
       "0.5835664615965117"
      ]
     },
     "execution_count": 296,
     "metadata": {},
     "output_type": "execute_result"
    }
   ],
   "source": [
    "linear = LinearRegression()\n",
    "linear.fit(x_train,y_train)\n",
    "linear.score(x_test,y_test)"
   ]
  },
  {
   "cell_type": "markdown",
   "metadata": {},
   "source": [
    "evaluate model"
   ]
  },
  {
   "cell_type": "code",
   "execution_count": 297,
   "metadata": {},
   "outputs": [
    {
     "data": {
      "text/plain": [
       "0.6009000488145881"
      ]
     },
     "execution_count": 297,
     "metadata": {},
     "output_type": "execute_result"
    }
   ],
   "source": [
    "score = cross_val_score(LinearRegression(),x,y,cv=5)\n",
    "score.mean()"
   ]
  },
  {
   "cell_type": "code",
   "execution_count": 298,
   "metadata": {},
   "outputs": [
    {
     "data": {
      "text/plain": [
       "0.6134941721815699"
      ]
     },
     "execution_count": 298,
     "metadata": {},
     "output_type": "execute_result"
    }
   ],
   "source": [
    "#random subset\n",
    "\n",
    "from sklearn.ensemble import BaggingRegressor\n",
    "bag_model = BaggingRegressor(\n",
    "    estimator=LinearRegression(),\n",
    "    n_estimators=100,# 100 subsets from actual data \n",
    "    max_samples= 0.8,\n",
    "    oob_score=True,\n",
    "    random_state= 0    \n",
    ")\n",
    "bag_model.fit(x_train,y_train)\n",
    "bag_model.oob_score_\n"
   ]
  },
  {
   "cell_type": "code",
   "execution_count": 299,
   "metadata": {},
   "outputs": [
    {
     "data": {
      "text/plain": [
       "array([ 6.74427491e+05,  1.83351143e+05,  4.29028896e+05,  3.81185444e+05,\n",
       "        1.05728485e+06,  1.15998046e+06,  2.85836496e+05,  8.17112652e+05,\n",
       "        4.23413646e+05,  6.72846561e+05,  2.49529151e+06,  2.29581611e+05,\n",
       "       -1.35715211e+05,  5.91494218e+05, -2.92416513e+04,  1.18065419e+06,\n",
       "        8.24022350e+05,  3.94522606e+05,  3.65403451e+05,  7.52522879e+05,\n",
       "        8.35560438e+05,  2.43467960e+06,  5.88325024e+05,  7.47350528e+05,\n",
       "        7.73200827e+05,  3.22203871e+05,  1.09808013e+05,  2.68047740e+05,\n",
       "        9.80044581e+05,  4.73856938e+05,  8.68632809e+05,  9.00470304e+05,\n",
       "        1.05026206e+06,  1.47770186e+06,  2.55263052e+06,  7.17048101e+05,\n",
       "        4.73476675e+05,  5.46304314e+05,  1.01502059e+06,  8.13961986e+05,\n",
       "        4.18267502e+05,  1.23564383e+06,  9.97313534e+05,  1.46364942e+06,\n",
       "        4.76473824e+05,  7.05716988e+05,  2.93907670e+06,  6.99963404e+05,\n",
       "        2.15814915e+06,  1.99115641e+05,  1.18291794e+06,  4.47633095e+05,\n",
       "        7.78891843e+05,  3.94594684e+05,  1.46169048e+06,  5.13671884e+05,\n",
       "        6.23926234e+05,  1.06806331e+06,  1.15314322e+06,  2.01321027e+06,\n",
       "        1.02104319e+06,  1.23608747e+06,  9.11567292e+05,  3.38421964e+05,\n",
       "        5.75437261e+05,  1.13529357e+06,  8.66792226e+05, -1.12087827e+05,\n",
       "        1.01060937e+06,  1.09473313e+06,  3.60972435e+05,  8.35413643e+05,\n",
       "        3.57623377e+06,  3.67659315e+06,  7.22959506e+05,  1.34242055e+06,\n",
       "        2.86107842e+06,  2.12535806e+06,  1.45123407e+04,  1.03353856e+06,\n",
       "        3.41658855e+06,  6.90013704e+05,  1.47719583e+06,  1.49805912e+05,\n",
       "        2.98446556e+06,  1.97616173e+05,  3.83596366e+06,  2.14505614e+05,\n",
       "        4.81193771e+05,  1.17476831e+06,  1.65312612e+06,  1.58059606e+06,\n",
       "        2.11715537e+06,  1.07601833e+05,  4.23777459e+05,  1.50938307e+06,\n",
       "        5.58615139e+06,  1.18016666e+06,  1.13329496e+06,  3.36397785e+05,\n",
       "        1.45595818e+06,  2.32911688e+06,  7.18325564e+05,  4.04439221e+05,\n",
       "        8.21832723e+05,  2.13769989e+05,  2.51080922e+06,  7.18673497e+05,\n",
       "       -1.03273105e+05,  7.51871233e+05,  4.02301076e+05,  4.59374974e+05,\n",
       "        1.22187484e+06,  8.01434828e+05,  2.62284837e+06,  6.12908062e+05,\n",
       "        3.17177046e+05,  4.46607300e+05,  6.20491000e+05,  1.03493534e+06,\n",
       "        1.80150960e+06,  1.47787449e+06,  3.77974397e+05,  2.65571355e+05,\n",
       "        2.78826747e+05,  8.19060163e+05,  3.76658328e+06,  3.75894588e+05,\n",
       "        1.02994152e+06,  9.30495549e+05,  1.23421946e+06,  1.01570124e+06,\n",
       "        7.74802624e+05,  1.06818466e+06,  1.22855990e+06,  3.84948304e+05,\n",
       "        1.08916512e+06,  7.82737066e+05,  8.21102769e+05,  2.90679006e+05,\n",
       "        7.29245616e+05,  8.77411999e+05,  7.55224998e+05, -4.77087350e+05,\n",
       "        1.14186935e+06,  7.68508858e+05,  2.39090340e+06,  8.16104753e+05,\n",
       "        1.19188105e+06,  8.26110206e+05,  1.05139159e+06,  7.31384782e+05,\n",
       "        3.53354571e+05,  1.88574891e+05, -3.26065399e+04,  5.88175786e+05,\n",
       "        1.89495362e+05,  4.02774269e+05,  1.38689737e+05,  1.94727340e+06,\n",
       "        1.02029689e+06,  2.12495860e+06,  7.86353747e+05,  5.47480849e+06,\n",
       "        1.36646747e+05,  4.43507671e+05,  1.11153979e+06,  7.26266395e+05,\n",
       "        5.63691787e+06,  5.06049986e+06,  1.85087668e+05,  2.10741535e+06,\n",
       "        3.61282298e+05,  3.86162252e+05,  4.23777459e+05,  2.93873395e+05,\n",
       "        1.57399232e+05, -8.79385797e+04,  2.50746618e+06,  5.48622121e+06,\n",
       "        3.14750310e+06,  8.50746655e+05,  1.13494100e+06, -2.08182556e+05,\n",
       "        7.22514879e+05,  1.89292244e+06,  6.14282735e+05,  7.03357695e+05,\n",
       "        3.32016863e+05,  9.93760486e+05,  2.38344973e+06,  1.39217709e+06,\n",
       "        4.39834670e+05, -2.62888258e+05,  2.21621927e+06,  8.85189294e+05,\n",
       "       -1.27972902e+05, -1.93678990e+05,  1.19039181e+06,  4.22407395e+06,\n",
       "        7.94680962e+05,  1.07117023e+06,  9.87379170e+05,  6.53743529e+05,\n",
       "        3.02912903e+05,  1.88329610e+06,  5.86897703e+05,  7.37901535e+05,\n",
       "        5.20802505e+05,  7.64735403e+05,  1.05548510e+06,  5.93481218e+05,\n",
       "        8.12813547e+05,  4.22951348e+05,  3.98253854e+05,  7.58646327e+05,\n",
       "        7.24923689e+05,  3.66608064e+06,  2.33863591e+06,  4.73324054e+05,\n",
       "        3.70123500e+05,  7.58996198e+05,  4.03025197e+05,  1.27532889e+06,\n",
       "        1.04810780e+06,  1.59097836e+06,  2.41047630e+06,  1.53136894e+06,\n",
       "        1.10321964e+06,  3.10668686e+06,  2.77696025e+05,  7.02973537e+05,\n",
       "       -1.80231534e+05,  1.25773618e+06,  3.62189737e+05,  1.14037107e+06,\n",
       "        6.48346529e+05,  1.01833657e+06,  5.38432794e+05,  6.42055070e+05,\n",
       "        7.22507147e+05,  6.79655435e+05,  6.77156793e+05,  3.40426574e+05,\n",
       "        4.12519982e+05,  1.03493274e+06,  5.17855425e+05,  5.54030016e+05,\n",
       "        4.00013417e+05,  2.26858213e+06,  5.82632948e+03,  7.88003128e+05,\n",
       "        1.85554897e+06,  1.56121899e+05,  8.22084497e+05,  3.46659716e+05,\n",
       "        1.56579812e+05,  7.25421567e+05,  4.61456247e+05,  6.40543967e+05,\n",
       "        1.93361434e+06,  1.77638167e+06,  3.28739090e+06,  1.16994119e+06,\n",
       "       -8.37848020e+04,  3.13862165e+05,  8.18360213e+05,  5.74423244e+06,\n",
       "        6.24623681e+05,  1.02006613e+06,  5.94314045e+05,  1.07234927e+06,\n",
       "        1.20336342e+06,  3.66169444e+06,  8.18421254e+05,  2.31067511e+06,\n",
       "        8.63833752e+05,  3.71597598e+06,  3.84296781e+05,  4.60115647e+05,\n",
       "        7.45143940e+05,  1.05920604e+06,  6.53518550e+05,  3.72893062e+06,\n",
       "        4.70060643e+05,  5.63036369e+06,  7.26367490e+05, -2.18109564e+05,\n",
       "        8.00036025e+05,  4.00393036e+05,  8.68431385e+05,  8.71868873e+05,\n",
       "        5.02208505e+05,  7.75963884e+05,  2.10206974e+06,  6.01606866e+05,\n",
       "        2.28838790e+06,  1.02182495e+06,  2.25498777e+06, -6.05173174e+04,\n",
       "        7.64718434e+05,  5.20632786e+05,  4.54920599e+05,  1.03155586e+06,\n",
       "        6.63343681e+05,  7.82728795e+05,  7.30057205e+05,  6.60189580e+05,\n",
       "       -1.05610564e+06,  3.23941026e+06,  1.12160771e+06,  7.88880574e+05,\n",
       "        3.76423050e+06,  1.06930729e+06,  4.90915983e+05,  6.03978831e+05,\n",
       "        2.97167780e+06,  3.12005214e+06,  1.34931279e+06,  2.12851054e+06,\n",
       "        1.16222328e+06,  1.47645164e+06,  1.42136808e+06,  4.03178992e+05,\n",
       "       -1.88888235e+05,  2.23921461e+06,  9.00775907e+05,  9.47962705e+05,\n",
       "        1.02718576e+05,  7.37198310e+05,  1.45123407e+04, -8.23070458e+04,\n",
       "       -5.64744264e+04,  8.31011055e+05,  3.55575083e+05,  1.37784812e+06,\n",
       "        2.75890751e+06,  6.06307524e+05,  1.03645464e+06,  1.24123110e+06,\n",
       "       -2.60129892e+05,  4.43714451e+04,  6.84385860e+05,  8.89004987e+05,\n",
       "        3.29949585e+05,  3.45410585e+06, -8.21087697e+03,  6.91118962e+05,\n",
       "        9.30153464e+05,  3.94776978e+06,  6.16436009e+05,  1.80429222e+06,\n",
       "        1.01752582e+06,  5.44414635e+06,  5.39547633e+05,  3.52140438e+06,\n",
       "        9.67293292e+05,  8.05210756e+05,  1.82845168e+06,  5.05377230e+05,\n",
       "        8.20595169e+05,  3.75298355e+04,  6.61877019e+05,  1.06580025e+07,\n",
       "        3.74553058e+06,  2.33724198e+06,  4.95803176e+05,  1.07550166e+06,\n",
       "        7.80544194e+05,  1.20432880e+06,  4.48585575e+05,  7.07058205e+05,\n",
       "        3.23343419e+06, -5.29266551e+04,  6.67389948e+05,  8.98821753e+05,\n",
       "        1.03357170e+06,  1.00801439e+06,  7.01538986e+05,  1.64175652e+06,\n",
       "        4.02532019e+05,  1.45243049e+05,  6.20850742e+05,  1.05737904e+06,\n",
       "        1.46479706e+06,  5.44342503e+05,  1.15027022e+06,  4.91936695e+05,\n",
       "        5.49222723e+05,  3.07469857e+05,  1.39662048e+06,  3.06913797e+05,\n",
       "        6.94282099e+05,  1.02042978e+06,  1.44425950e+06,  3.23479050e+05,\n",
       "        1.59157994e+06,  9.21378513e+04,  1.17146837e+06,  7.31549848e+05,\n",
       "        1.58072023e+06,  1.05477110e+06,  9.63858840e+05,  2.09494218e+06,\n",
       "        1.13944140e+06,  1.01811102e+06,  1.38138573e+05,  2.66135139e+06,\n",
       "        3.95981946e+05,  3.34236287e+02,  2.79252250e+05,  6.44836237e+05,\n",
       "        1.02007423e+06,  3.88656909e+05,  8.87058020e+05,  9.52017880e+05,\n",
       "        1.08403648e+06,  7.91500476e+05, -1.71694064e+05,  1.91461226e+06,\n",
       "        5.61390265e+05])"
      ]
     },
     "execution_count": 299,
     "metadata": {},
     "output_type": "execute_result"
    }
   ],
   "source": [
    "y_pre = linear.predict(x_test)\n",
    "y_pre"
   ]
  },
  {
   "cell_type": "code",
   "execution_count": 300,
   "metadata": {},
   "outputs": [
    {
     "name": "stdout",
     "output_type": "stream",
     "text": [
      "Mean Squared Error: 1301448667534.2812\n"
     ]
    }
   ],
   "source": [
    "from sklearn.metrics import mean_squared_error\n",
    "mse = mean_squared_error(y_test, y_pre)\n",
    "print(f'Mean Squared Error: {mse}')"
   ]
  },
  {
   "cell_type": "markdown",
   "metadata": {},
   "source": [
    "DECISION TREE"
   ]
  },
  {
   "cell_type": "markdown",
   "metadata": {},
   "source": [
    "model selection"
   ]
  },
  {
   "cell_type": "code",
   "execution_count": 301,
   "metadata": {},
   "outputs": [],
   "source": [
    "from sklearn.tree import DecisionTreeRegressor\n",
    "dtree = DecisionTreeRegressor()"
   ]
  },
  {
   "cell_type": "markdown",
   "metadata": {},
   "source": [
    "model training"
   ]
  },
  {
   "cell_type": "code",
   "execution_count": 302,
   "metadata": {},
   "outputs": [
    {
     "data": {
      "text/html": [
       "<style>#sk-container-id-17 {color: black;}#sk-container-id-17 pre{padding: 0;}#sk-container-id-17 div.sk-toggleable {background-color: white;}#sk-container-id-17 label.sk-toggleable__label {cursor: pointer;display: block;width: 100%;margin-bottom: 0;padding: 0.3em;box-sizing: border-box;text-align: center;}#sk-container-id-17 label.sk-toggleable__label-arrow:before {content: \"▸\";float: left;margin-right: 0.25em;color: #696969;}#sk-container-id-17 label.sk-toggleable__label-arrow:hover:before {color: black;}#sk-container-id-17 div.sk-estimator:hover label.sk-toggleable__label-arrow:before {color: black;}#sk-container-id-17 div.sk-toggleable__content {max-height: 0;max-width: 0;overflow: hidden;text-align: left;background-color: #f0f8ff;}#sk-container-id-17 div.sk-toggleable__content pre {margin: 0.2em;color: black;border-radius: 0.25em;background-color: #f0f8ff;}#sk-container-id-17 input.sk-toggleable__control:checked~div.sk-toggleable__content {max-height: 200px;max-width: 100%;overflow: auto;}#sk-container-id-17 input.sk-toggleable__control:checked~label.sk-toggleable__label-arrow:before {content: \"▾\";}#sk-container-id-17 div.sk-estimator input.sk-toggleable__control:checked~label.sk-toggleable__label {background-color: #d4ebff;}#sk-container-id-17 div.sk-label input.sk-toggleable__control:checked~label.sk-toggleable__label {background-color: #d4ebff;}#sk-container-id-17 input.sk-hidden--visually {border: 0;clip: rect(1px 1px 1px 1px);clip: rect(1px, 1px, 1px, 1px);height: 1px;margin: -1px;overflow: hidden;padding: 0;position: absolute;width: 1px;}#sk-container-id-17 div.sk-estimator {font-family: monospace;background-color: #f0f8ff;border: 1px dotted black;border-radius: 0.25em;box-sizing: border-box;margin-bottom: 0.5em;}#sk-container-id-17 div.sk-estimator:hover {background-color: #d4ebff;}#sk-container-id-17 div.sk-parallel-item::after {content: \"\";width: 100%;border-bottom: 1px solid gray;flex-grow: 1;}#sk-container-id-17 div.sk-label:hover label.sk-toggleable__label {background-color: #d4ebff;}#sk-container-id-17 div.sk-serial::before {content: \"\";position: absolute;border-left: 1px solid gray;box-sizing: border-box;top: 0;bottom: 0;left: 50%;z-index: 0;}#sk-container-id-17 div.sk-serial {display: flex;flex-direction: column;align-items: center;background-color: white;padding-right: 0.2em;padding-left: 0.2em;position: relative;}#sk-container-id-17 div.sk-item {position: relative;z-index: 1;}#sk-container-id-17 div.sk-parallel {display: flex;align-items: stretch;justify-content: center;background-color: white;position: relative;}#sk-container-id-17 div.sk-item::before, #sk-container-id-17 div.sk-parallel-item::before {content: \"\";position: absolute;border-left: 1px solid gray;box-sizing: border-box;top: 0;bottom: 0;left: 50%;z-index: -1;}#sk-container-id-17 div.sk-parallel-item {display: flex;flex-direction: column;z-index: 1;position: relative;background-color: white;}#sk-container-id-17 div.sk-parallel-item:first-child::after {align-self: flex-end;width: 50%;}#sk-container-id-17 div.sk-parallel-item:last-child::after {align-self: flex-start;width: 50%;}#sk-container-id-17 div.sk-parallel-item:only-child::after {width: 0;}#sk-container-id-17 div.sk-dashed-wrapped {border: 1px dashed gray;margin: 0 0.4em 0.5em 0.4em;box-sizing: border-box;padding-bottom: 0.4em;background-color: white;}#sk-container-id-17 div.sk-label label {font-family: monospace;font-weight: bold;display: inline-block;line-height: 1.2em;}#sk-container-id-17 div.sk-label-container {text-align: center;}#sk-container-id-17 div.sk-container {/* jupyter's `normalize.less` sets `[hidden] { display: none; }` but bootstrap.min.css set `[hidden] { display: none !important; }` so we also need the `!important` here to be able to override the default hidden behavior on the sphinx rendered scikit-learn.org. See: https://github.com/scikit-learn/scikit-learn/issues/21755 */display: inline-block !important;position: relative;}#sk-container-id-17 div.sk-text-repr-fallback {display: none;}</style><div id=\"sk-container-id-17\" class=\"sk-top-container\"><div class=\"sk-text-repr-fallback\"><pre>DecisionTreeRegressor()</pre><b>In a Jupyter environment, please rerun this cell to show the HTML representation or trust the notebook. <br />On GitHub, the HTML representation is unable to render, please try loading this page with nbviewer.org.</b></div><div class=\"sk-container\" hidden><div class=\"sk-item\"><div class=\"sk-estimator sk-toggleable\"><input class=\"sk-toggleable__control sk-hidden--visually\" id=\"sk-estimator-id-17\" type=\"checkbox\" checked><label for=\"sk-estimator-id-17\" class=\"sk-toggleable__label sk-toggleable__label-arrow\">DecisionTreeRegressor</label><div class=\"sk-toggleable__content\"><pre>DecisionTreeRegressor()</pre></div></div></div></div></div>"
      ],
      "text/plain": [
       "DecisionTreeRegressor()"
      ]
     },
     "execution_count": 302,
     "metadata": {},
     "output_type": "execute_result"
    }
   ],
   "source": [
    "dtree.fit(x_train,y_train)"
   ]
  },
  {
   "cell_type": "markdown",
   "metadata": {},
   "source": [
    "evaluate model"
   ]
  },
  {
   "cell_type": "code",
   "execution_count": 303,
   "metadata": {},
   "outputs": [
    {
     "data": {
      "text/plain": [
       "0.5628958217512887"
      ]
     },
     "execution_count": 303,
     "metadata": {},
     "output_type": "execute_result"
    }
   ],
   "source": [
    "dtree.score(x_test,y_test)"
   ]
  },
  {
   "cell_type": "code",
   "execution_count": 304,
   "metadata": {},
   "outputs": [
    {
     "data": {
      "text/plain": [
       "0.3637709658602295"
      ]
     },
     "execution_count": 304,
     "metadata": {},
     "output_type": "execute_result"
    }
   ],
   "source": [
    "score = cross_val_score(DecisionTreeRegressor(),x,y,cv=5)\n",
    "score.mean()"
   ]
  },
  {
   "cell_type": "code",
   "execution_count": 305,
   "metadata": {},
   "outputs": [
    {
     "data": {
      "text/plain": [
       "0.6899835089799402"
      ]
     },
     "execution_count": 305,
     "metadata": {},
     "output_type": "execute_result"
    }
   ],
   "source": [
    "from sklearn.ensemble import BaggingRegressor\n",
    "bag_model = BaggingRegressor(\n",
    "    estimator=DecisionTreeRegressor(),\n",
    "    n_estimators=100,# 100 subsets from actual data \n",
    "    max_samples= 0.8,\n",
    "    oob_score=True,\n",
    "    random_state= 0    \n",
    ")\n",
    "bag_model.fit(x_train,y_train)\n",
    "bag_model.oob_score_\n"
   ]
  },
  {
   "cell_type": "code",
   "execution_count": 306,
   "metadata": {},
   "outputs": [
    {
     "data": {
      "text/plain": [
       "array([  988000.,   300000.,   535000.,   482000.,   983000.,  1200000.,\n",
       "         304000.,   895000.,   357000.,   609000.,  1575000.,   525000.,\n",
       "         246000.,   690000.,   255000.,  1130000.,   910000.,   471000.,\n",
       "         395000.,   895000.,  1045000.,  2475000.,   565000.,   895000.,\n",
       "        1097000.,   305000.,   575000.,   468000.,  2475000.,   538000.,\n",
       "         675000.,   862000.,   925000.,  1050000.,  2751000.,   425000.,\n",
       "         439000.,  1600000.,   402000.,   960000.,   499000.,  1465000.,\n",
       "         654000.,  2095000.,   445000.,   538000.,  4299000.,   369000.,\n",
       "        1925000.,   200000.,  1130000.,   525000.,   465000.,   525000.,\n",
       "        1675000.,   425000.,   445000.,   733000.,   730000.,  1700000.,\n",
       "        1179000.,  1511000.,   750000.,   370000.,   490000.,   666000.,\n",
       "         721000.,   325000.,   731000.,   623000.,   405000.,  1350000.,\n",
       "        3275000.,  2559000.,   897000.,  1045000.,  1550000.,  1350000.,\n",
       "         234000.,  1044000.,  3899000.,   600000.,  1137000.,   341000.,\n",
       "        1350000.,   359000.,  2175000.,   250000.,   445000.,  1465000.,\n",
       "        1700000.,  3595000.,  3900000.,   385000.,   639000.,   960000.,\n",
       "        5999000.,  1045000.,  1450000.,   267000.,   650000.,  1099000.,\n",
       "         675000.,   315000.,   495000.,   357000.,  1490000.,   750000.,\n",
       "         290000.,   610000.,   451000.,   565000.,  1125000.,   685000.,\n",
       "        1875000.,   615000.,   350000.,   389000.,   558000.,   699000.,\n",
       "         450000.,  1850000.,   369000.,   250000.,   314000.,   862000.,\n",
       "        5500000.,   471000.,  1465000.,   992000.,   842000.,   895000.,\n",
       "         925000.,  1156000.,  1125000.,   378000.,   785000.,   530000.,\n",
       "         871000.,   498000.,   750000.,   486000.,   975000.,   200000.,\n",
       "         925000.,   475000.,  1659000.,   641000.,   925000.,   440000.,\n",
       "         839000.,   747000.,   295000.,   298000.,   390000.,   686000.,\n",
       "         300000.,   465000.,   446000.,  1700000.,   941000.,   660000.,\n",
       "         890000.,  7899000.,   385000.,   687000.,  1450000.,   747000.,\n",
       "        7700000.,  2250000.,   685000.,  1975000.,   420000.,   250000.,\n",
       "         639000.,   435000.,   406000.,   595000.,  2288000.,  7899000.,\n",
       "        4299000.,   724000.,   862000.,  1400000.,   575000.,  1465000.,\n",
       "         475000.,   524000.,   320000.,   486000.,  1650000.,  1895000.,\n",
       "         595000.,   500000.,   880000.,   765000.,   445000.,   390000.,\n",
       "        1130000.,  4900000.,   630000.,   733000.,   730000.,   299000.,\n",
       "         384000.,   450000.,   565000.,   855000.,   525000.,   245000.,\n",
       "        1050000.,   610000.,   350000.,   525000.,   451000.,  1023000.,\n",
       "         739000.,  2700000.,   889000.,   538000.,   575000.,   460000.,\n",
       "         465000.,   425000.,   550000.,  1574000.,  1550000.,   941000.,\n",
       "         778000.,  3050000.,   445000.,   575000.,   325000.,  4850000.,\n",
       "         430000.,   685000.,   790000.,   669000.,   450000.,   534000.,\n",
       "         491000.,   490000.,   675000.,   799000.,   351000.,   529000.,\n",
       "         491000.,   675000.,   336000.,  3950000.,   390000.,   679000.,\n",
       "        1550000.,   325000.,   745000.,   320000.,   446000.,   897000.,\n",
       "         425000.,   479000.,  1341000.,  1925000.,  2180000.,  2145000.,\n",
       "         276000.,   295000.,   711000.,  5999000.,   534000.,   476000.,\n",
       "         498000.,   785000.,  3189000.,  2426000.,   699000.,  2150000.,\n",
       "         349000.,  4300000.,   599000.,   425000.,   551000.,   725000.,\n",
       "         295000.,  3800000.,   621000.,  4950000.,  1125000.,   276000.,\n",
       "        1125000.,   521000.,   721000.,   325000.,   486000.,   680000.,\n",
       "        1350000.,   615000.,  1500000.,   925000.,  4300000.,   223000.,\n",
       "        1137000.,   304000.,   450000.,  1145000.,   569000.,   769000.,\n",
       "         369000.,   570000.,  2750000.,  3775000.,  1875000.,   729000.,\n",
       "        3899000.,   389000.,   542000.,   750000.,  2099000.,  3050000.,\n",
       "        1125000.,   789000.,  1145000.,  1200000.,   890000.,   465000.,\n",
       "         245000.,  2450000.,   594000.,   785000.,   345000.,   740000.,\n",
       "         234000.,  1400000.,   250000.,   685000.,   575000.,  1699000.,\n",
       "        1790000.,   414000.,   570000.,   945000.,   245000.,   245000.,\n",
       "         899000.,   610000.,   690000.,  2175000.,   370000.,   575000.,\n",
       "         695000.,  3250000.,   524000.,  1925000.,   476000.,  4950000.,\n",
       "         775000.,  2559000.,   825000.,   970000.,  3950000.,   465000.,\n",
       "         490000.,   245000.,   779000., 11500000.,  2800000.,  3299000.,\n",
       "         475000.,   785000.,   770000.,  1400000.,   790000.,   425000.,\n",
       "        2559000.,   391000.,   862000.,   770000.,  1175000.,   660000.,\n",
       "         475000.,  1851000.,   534000.,   515000.,   425000.,   862000.,\n",
       "         540000.,   645000.,   954000.,   658000.,   490000.,   549000.,\n",
       "        2249000.,  1125000.,   680000.,   895000.,   814000.,   267000.,\n",
       "        1600000.,   240000.,   832000.,   585000.,  1040000.,   565000.,\n",
       "        1150000.,  1825000.,   441000.,   699000.,   400000.,  2099000.,\n",
       "         349000.,   387000.,   690000.,   790000.,   476000.,   378000.,\n",
       "         779000.,   675000.,   925000.,   729000.,   325000.,  2649000.,\n",
       "         880000.])"
      ]
     },
     "execution_count": 306,
     "metadata": {},
     "output_type": "execute_result"
    }
   ],
   "source": [
    "y_pre = dtree.predict(x_test)\n",
    "y_pre"
   ]
  },
  {
   "cell_type": "code",
   "execution_count": 307,
   "metadata": {},
   "outputs": [
    {
     "name": "stdout",
     "output_type": "stream",
     "text": [
      "Mean Squared Error: 1366049076009.5012\n"
     ]
    }
   ],
   "source": [
    "from sklearn.metrics import mean_squared_error\n",
    "mse = mean_squared_error(y_test, y_pre)\n",
    "print(f'Mean Squared Error: {mse}')"
   ]
  },
  {
   "cell_type": "markdown",
   "metadata": {},
   "source": [
    "RANDOM FORSET"
   ]
  },
  {
   "cell_type": "markdown",
   "metadata": {},
   "source": [
    "model selection"
   ]
  },
  {
   "cell_type": "code",
   "execution_count": 308,
   "metadata": {},
   "outputs": [],
   "source": [
    "from sklearn.ensemble import RandomForestRegressor\n",
    "rf = RandomForestRegressor()"
   ]
  },
  {
   "cell_type": "markdown",
   "metadata": {},
   "source": [
    "model training"
   ]
  },
  {
   "cell_type": "code",
   "execution_count": 309,
   "metadata": {},
   "outputs": [
    {
     "data": {
      "text/html": [
       "<style>#sk-container-id-18 {color: black;}#sk-container-id-18 pre{padding: 0;}#sk-container-id-18 div.sk-toggleable {background-color: white;}#sk-container-id-18 label.sk-toggleable__label {cursor: pointer;display: block;width: 100%;margin-bottom: 0;padding: 0.3em;box-sizing: border-box;text-align: center;}#sk-container-id-18 label.sk-toggleable__label-arrow:before {content: \"▸\";float: left;margin-right: 0.25em;color: #696969;}#sk-container-id-18 label.sk-toggleable__label-arrow:hover:before {color: black;}#sk-container-id-18 div.sk-estimator:hover label.sk-toggleable__label-arrow:before {color: black;}#sk-container-id-18 div.sk-toggleable__content {max-height: 0;max-width: 0;overflow: hidden;text-align: left;background-color: #f0f8ff;}#sk-container-id-18 div.sk-toggleable__content pre {margin: 0.2em;color: black;border-radius: 0.25em;background-color: #f0f8ff;}#sk-container-id-18 input.sk-toggleable__control:checked~div.sk-toggleable__content {max-height: 200px;max-width: 100%;overflow: auto;}#sk-container-id-18 input.sk-toggleable__control:checked~label.sk-toggleable__label-arrow:before {content: \"▾\";}#sk-container-id-18 div.sk-estimator input.sk-toggleable__control:checked~label.sk-toggleable__label {background-color: #d4ebff;}#sk-container-id-18 div.sk-label input.sk-toggleable__control:checked~label.sk-toggleable__label {background-color: #d4ebff;}#sk-container-id-18 input.sk-hidden--visually {border: 0;clip: rect(1px 1px 1px 1px);clip: rect(1px, 1px, 1px, 1px);height: 1px;margin: -1px;overflow: hidden;padding: 0;position: absolute;width: 1px;}#sk-container-id-18 div.sk-estimator {font-family: monospace;background-color: #f0f8ff;border: 1px dotted black;border-radius: 0.25em;box-sizing: border-box;margin-bottom: 0.5em;}#sk-container-id-18 div.sk-estimator:hover {background-color: #d4ebff;}#sk-container-id-18 div.sk-parallel-item::after {content: \"\";width: 100%;border-bottom: 1px solid gray;flex-grow: 1;}#sk-container-id-18 div.sk-label:hover label.sk-toggleable__label {background-color: #d4ebff;}#sk-container-id-18 div.sk-serial::before {content: \"\";position: absolute;border-left: 1px solid gray;box-sizing: border-box;top: 0;bottom: 0;left: 50%;z-index: 0;}#sk-container-id-18 div.sk-serial {display: flex;flex-direction: column;align-items: center;background-color: white;padding-right: 0.2em;padding-left: 0.2em;position: relative;}#sk-container-id-18 div.sk-item {position: relative;z-index: 1;}#sk-container-id-18 div.sk-parallel {display: flex;align-items: stretch;justify-content: center;background-color: white;position: relative;}#sk-container-id-18 div.sk-item::before, #sk-container-id-18 div.sk-parallel-item::before {content: \"\";position: absolute;border-left: 1px solid gray;box-sizing: border-box;top: 0;bottom: 0;left: 50%;z-index: -1;}#sk-container-id-18 div.sk-parallel-item {display: flex;flex-direction: column;z-index: 1;position: relative;background-color: white;}#sk-container-id-18 div.sk-parallel-item:first-child::after {align-self: flex-end;width: 50%;}#sk-container-id-18 div.sk-parallel-item:last-child::after {align-self: flex-start;width: 50%;}#sk-container-id-18 div.sk-parallel-item:only-child::after {width: 0;}#sk-container-id-18 div.sk-dashed-wrapped {border: 1px dashed gray;margin: 0 0.4em 0.5em 0.4em;box-sizing: border-box;padding-bottom: 0.4em;background-color: white;}#sk-container-id-18 div.sk-label label {font-family: monospace;font-weight: bold;display: inline-block;line-height: 1.2em;}#sk-container-id-18 div.sk-label-container {text-align: center;}#sk-container-id-18 div.sk-container {/* jupyter's `normalize.less` sets `[hidden] { display: none; }` but bootstrap.min.css set `[hidden] { display: none !important; }` so we also need the `!important` here to be able to override the default hidden behavior on the sphinx rendered scikit-learn.org. See: https://github.com/scikit-learn/scikit-learn/issues/21755 */display: inline-block !important;position: relative;}#sk-container-id-18 div.sk-text-repr-fallback {display: none;}</style><div id=\"sk-container-id-18\" class=\"sk-top-container\"><div class=\"sk-text-repr-fallback\"><pre>RandomForestRegressor()</pre><b>In a Jupyter environment, please rerun this cell to show the HTML representation or trust the notebook. <br />On GitHub, the HTML representation is unable to render, please try loading this page with nbviewer.org.</b></div><div class=\"sk-container\" hidden><div class=\"sk-item\"><div class=\"sk-estimator sk-toggleable\"><input class=\"sk-toggleable__control sk-hidden--visually\" id=\"sk-estimator-id-18\" type=\"checkbox\" checked><label for=\"sk-estimator-id-18\" class=\"sk-toggleable__label sk-toggleable__label-arrow\">RandomForestRegressor</label><div class=\"sk-toggleable__content\"><pre>RandomForestRegressor()</pre></div></div></div></div></div>"
      ],
      "text/plain": [
       "RandomForestRegressor()"
      ]
     },
     "execution_count": 309,
     "metadata": {},
     "output_type": "execute_result"
    }
   ],
   "source": [
    "rf.fit(x_train,y_train)"
   ]
  },
  {
   "cell_type": "markdown",
   "metadata": {},
   "source": [
    "evaluate model"
   ]
  },
  {
   "cell_type": "code",
   "execution_count": 310,
   "metadata": {},
   "outputs": [
    {
     "data": {
      "text/plain": [
       "0.6335791527671959"
      ]
     },
     "execution_count": 310,
     "metadata": {},
     "output_type": "execute_result"
    }
   ],
   "source": [
    "rf.score(x_test,y_test)"
   ]
  },
  {
   "cell_type": "code",
   "execution_count": 311,
   "metadata": {},
   "outputs": [
    {
     "data": {
      "text/plain": [
       "0.6152783001627327"
      ]
     },
     "execution_count": 311,
     "metadata": {},
     "output_type": "execute_result"
    }
   ],
   "source": [
    "score = cross_val_score(RandomForestRegressor(),x,y,cv=5)\n",
    "score.mean()"
   ]
  },
  {
   "cell_type": "code",
   "execution_count": 312,
   "metadata": {},
   "outputs": [
    {
     "data": {
      "text/plain": [
       "0.6899835089799402"
      ]
     },
     "execution_count": 312,
     "metadata": {},
     "output_type": "execute_result"
    }
   ],
   "source": [
    "from sklearn.ensemble import BaggingRegressor\n",
    "bag_model = BaggingRegressor(\n",
    "    estimator=DecisionTreeRegressor(),\n",
    "    n_estimators=100,# 100 subsets from actual data \n",
    "    max_samples= 0.8,\n",
    "    oob_score=True,\n",
    "    random_state= 0    \n",
    ")\n",
    "bag_model.fit(x_train,y_train)\n",
    "bag_model.oob_score_\n"
   ]
  },
  {
   "cell_type": "code",
   "execution_count": 313,
   "metadata": {},
   "outputs": [
    {
     "data": {
      "text/plain": [
       "array([ 644050.,  435210.,  556870.,  445970., 1088610., 1291690.,\n",
       "        351680.,  821650.,  386620.,  691070., 1121410.,  533670.,\n",
       "        316620.,  647290.,  285630.,  882670.,  914120.,  445790.,\n",
       "        450760.,  998560.,  765850., 2085710.,  637730., 1051040.,\n",
       "        849680.,  346890.,  557100.,  482140., 1273350.,  561630.,\n",
       "        746820.,  714900.,  991690., 1242990., 2313200.,  601380.,\n",
       "        443560.,  612020.,  444380., 1235070.,  458560., 1563820.,\n",
       "       1113780., 1563770.,  473780.,  567440., 3508580.,  632330.,\n",
       "       1796600.,  242280.,  889360.,  529060.,  653870.,  549810.,\n",
       "       1999600.,  510400.,  412640.,  700050.,  898950., 1867680.,\n",
       "        941060., 1026980.,  808530.,  425990.,  770030.,  793700.,\n",
       "        784170.,  355470.,  790390., 1293710.,  411690.,  944910.,\n",
       "       3377480., 2844100.,  726920., 1273820., 1562680., 1680990.,\n",
       "        256680.,  881950., 3575850.,  520710., 1547990.,  345560.,\n",
       "       2020020.,  457690., 4338290.,  361940.,  452590., 1583360.,\n",
       "       1592950., 3246420., 3151040.,  403850.,  533890., 1586750.,\n",
       "       9189450.,  906330., 1215520.,  363090., 1711530., 1034020.,\n",
       "        818090.,  403130.,  631130.,  375890., 1698290.,  735570.,\n",
       "        308520.,  837800.,  492630.,  555050., 1072800.,  773880.,\n",
       "       1493600.,  606690.,  408060.,  487070.,  547320.,  662000.,\n",
       "        978650., 1251140.,  517720.,  400220.,  422540.,  789780.,\n",
       "       4961460.,  470950., 1096760.,  732640., 1044750.,  877200.,\n",
       "        683120.,  942540.,  893100.,  366680., 1059470.,  589510.,\n",
       "        517020.,  483790.,  656930.,  864990.,  707120.,  222950.,\n",
       "       1128950.,  527350., 1518760.,  593940.,  971980.,  575190.,\n",
       "        811510.,  721150.,  388040.,  333220.,  339680.,  624190.,\n",
       "        394720.,  393710.,  460330., 1806240., 1183310., 1395710.,\n",
       "        968220., 7786100.,  361610.,  625080., 1245040.,  721500.,\n",
       "       7524170., 2439390.,  351660., 2485450.,  458950.,  505740.,\n",
       "        533890.,  537900.,  429430.,  538880., 2019970., 7570670.,\n",
       "       3538870.,  712560.,  764540.,  843930.,  547180., 1736390.,\n",
       "        592820.,  621220.,  424490.,  786960., 1784720., 1837910.,\n",
       "        509690.,  430070., 1633940.,  743830.,  384070.,  375350.,\n",
       "        859330., 5187730.,  677850.,  704710.,  799150.,  445760.,\n",
       "        417210., 1047870.,  585570.,  663110.,  666030.,  320390.,\n",
       "        903390.,  558540.,  524190.,  537880.,  484770., 1100110.,\n",
       "        780270., 3033240., 1011630.,  560460.,  489460.,  577730.,\n",
       "        391610.,  829100.,  586610., 1504940., 1804300., 1529360.,\n",
       "        836520., 4207760.,  442170.,  582200.,  284690., 3183760.,\n",
       "        426920.,  854050.,  764450.,  657840.,  486110.,  591370.,\n",
       "        444270.,  487420.,  673910.,  575650.,  362900.,  548260.,\n",
       "        468910.,  541290.,  359070., 2914520.,  359870.,  643790.,\n",
       "       1995200.,  351910.,  761100.,  346700.,  448970.,  680810.,\n",
       "        475580.,  485710., 1777780., 1576530., 3417000., 1916720.,\n",
       "        264710.,  423870.,  738430., 9159450.,  542700.,  787630.,\n",
       "        617600., 1013450., 2690230., 2484770.,  746650., 2466670.,\n",
       "        486710., 4980700.,  609250.,  482160.,  661590.,  707320.,\n",
       "        457310., 3740440.,  571720., 4636940.,  890390.,  275780.,\n",
       "        791540.,  580670.,  769720.,  319840.,  627190.,  650320.,\n",
       "       1751490.,  640280., 1795520.,  888310., 1634660.,  267490.,\n",
       "        737850.,  372360.,  491450.,  852420.,  762470.,  751150.,\n",
       "        633980.,  547880., 3489440., 2919880., 1226740.,  754080.,\n",
       "       3655450.,  671920.,  489660.,  679910., 2152390., 3409610.,\n",
       "       1429760., 1114560.,  906850., 1302860., 1234960.,  391610.,\n",
       "        275860., 2522090.,  786260.,  890920.,  297240.,  693350.,\n",
       "        256680.,  901480.,  278840.,  807360.,  525950., 1454100.,\n",
       "       1855820.,  737110.,  737170.,  909840.,  298240.,  283340.,\n",
       "        655100.,  624400.,  485220., 2895430.,  405580.,  729050.,\n",
       "        598170., 3489940.,  581050., 1875480.,  524510., 4542170.,\n",
       "        647560., 2972030.,  839460.,  779760., 2049010.,  479860.,\n",
       "        542530.,  327560.,  706830., 7505810., 3385880., 2595850.,\n",
       "        510930., 1212780., 1063320., 1013370.,  651880.,  580170.,\n",
       "       2634980.,  391500.,  856240.,  744400.,  787840., 1037670.,\n",
       "        780150., 1805470.,  503090.,  349860.,  551770.,  706530.,\n",
       "        752750.,  652250.,  931230.,  536340.,  576270.,  491760.,\n",
       "       2045480.,  869830.,  607650.,  820760., 1284700.,  365460.,\n",
       "       1467670.,  300190., 1343890.,  658720., 1235750.,  720000.,\n",
       "       1041860., 1814370.,  641410.,  760510.,  439510., 1107480.,\n",
       "        408830.,  422140.,  651180.,  747540.,  787630.,  372330.,\n",
       "        759660.,  854530., 1091340.,  750680.,  311280., 2128670.,\n",
       "       1141890.])"
      ]
     },
     "execution_count": 313,
     "metadata": {},
     "output_type": "execute_result"
    }
   ],
   "source": [
    "y_pre = rf.predict(x_test)\n",
    "y_pre"
   ]
  },
  {
   "cell_type": "code",
   "execution_count": 314,
   "metadata": {},
   "outputs": [
    {
     "name": "stdout",
     "output_type": "stream",
     "text": [
      "Mean Squared Error: 1145147735257.2446\n"
     ]
    }
   ],
   "source": [
    "from sklearn.metrics import mean_squared_error\n",
    "mse = mean_squared_error(y_test, y_pre)\n",
    "print(f'Mean Squared Error: {mse}')"
   ]
  },
  {
   "cell_type": "markdown",
   "metadata": {},
   "source": [
    "KNN"
   ]
  },
  {
   "cell_type": "markdown",
   "metadata": {},
   "source": [
    "model selection"
   ]
  },
  {
   "cell_type": "code",
   "execution_count": 315,
   "metadata": {},
   "outputs": [],
   "source": [
    "from sklearn.neighbors import KNeighborsRegressor\n",
    "knn = KNeighborsRegressor(n_neighbors=100)"
   ]
  },
  {
   "cell_type": "markdown",
   "metadata": {},
   "source": [
    "model training"
   ]
  },
  {
   "cell_type": "code",
   "execution_count": 316,
   "metadata": {},
   "outputs": [
    {
     "data": {
      "text/html": [
       "<style>#sk-container-id-19 {color: black;}#sk-container-id-19 pre{padding: 0;}#sk-container-id-19 div.sk-toggleable {background-color: white;}#sk-container-id-19 label.sk-toggleable__label {cursor: pointer;display: block;width: 100%;margin-bottom: 0;padding: 0.3em;box-sizing: border-box;text-align: center;}#sk-container-id-19 label.sk-toggleable__label-arrow:before {content: \"▸\";float: left;margin-right: 0.25em;color: #696969;}#sk-container-id-19 label.sk-toggleable__label-arrow:hover:before {color: black;}#sk-container-id-19 div.sk-estimator:hover label.sk-toggleable__label-arrow:before {color: black;}#sk-container-id-19 div.sk-toggleable__content {max-height: 0;max-width: 0;overflow: hidden;text-align: left;background-color: #f0f8ff;}#sk-container-id-19 div.sk-toggleable__content pre {margin: 0.2em;color: black;border-radius: 0.25em;background-color: #f0f8ff;}#sk-container-id-19 input.sk-toggleable__control:checked~div.sk-toggleable__content {max-height: 200px;max-width: 100%;overflow: auto;}#sk-container-id-19 input.sk-toggleable__control:checked~label.sk-toggleable__label-arrow:before {content: \"▾\";}#sk-container-id-19 div.sk-estimator input.sk-toggleable__control:checked~label.sk-toggleable__label {background-color: #d4ebff;}#sk-container-id-19 div.sk-label input.sk-toggleable__control:checked~label.sk-toggleable__label {background-color: #d4ebff;}#sk-container-id-19 input.sk-hidden--visually {border: 0;clip: rect(1px 1px 1px 1px);clip: rect(1px, 1px, 1px, 1px);height: 1px;margin: -1px;overflow: hidden;padding: 0;position: absolute;width: 1px;}#sk-container-id-19 div.sk-estimator {font-family: monospace;background-color: #f0f8ff;border: 1px dotted black;border-radius: 0.25em;box-sizing: border-box;margin-bottom: 0.5em;}#sk-container-id-19 div.sk-estimator:hover {background-color: #d4ebff;}#sk-container-id-19 div.sk-parallel-item::after {content: \"\";width: 100%;border-bottom: 1px solid gray;flex-grow: 1;}#sk-container-id-19 div.sk-label:hover label.sk-toggleable__label {background-color: #d4ebff;}#sk-container-id-19 div.sk-serial::before {content: \"\";position: absolute;border-left: 1px solid gray;box-sizing: border-box;top: 0;bottom: 0;left: 50%;z-index: 0;}#sk-container-id-19 div.sk-serial {display: flex;flex-direction: column;align-items: center;background-color: white;padding-right: 0.2em;padding-left: 0.2em;position: relative;}#sk-container-id-19 div.sk-item {position: relative;z-index: 1;}#sk-container-id-19 div.sk-parallel {display: flex;align-items: stretch;justify-content: center;background-color: white;position: relative;}#sk-container-id-19 div.sk-item::before, #sk-container-id-19 div.sk-parallel-item::before {content: \"\";position: absolute;border-left: 1px solid gray;box-sizing: border-box;top: 0;bottom: 0;left: 50%;z-index: -1;}#sk-container-id-19 div.sk-parallel-item {display: flex;flex-direction: column;z-index: 1;position: relative;background-color: white;}#sk-container-id-19 div.sk-parallel-item:first-child::after {align-self: flex-end;width: 50%;}#sk-container-id-19 div.sk-parallel-item:last-child::after {align-self: flex-start;width: 50%;}#sk-container-id-19 div.sk-parallel-item:only-child::after {width: 0;}#sk-container-id-19 div.sk-dashed-wrapped {border: 1px dashed gray;margin: 0 0.4em 0.5em 0.4em;box-sizing: border-box;padding-bottom: 0.4em;background-color: white;}#sk-container-id-19 div.sk-label label {font-family: monospace;font-weight: bold;display: inline-block;line-height: 1.2em;}#sk-container-id-19 div.sk-label-container {text-align: center;}#sk-container-id-19 div.sk-container {/* jupyter's `normalize.less` sets `[hidden] { display: none; }` but bootstrap.min.css set `[hidden] { display: none !important; }` so we also need the `!important` here to be able to override the default hidden behavior on the sphinx rendered scikit-learn.org. See: https://github.com/scikit-learn/scikit-learn/issues/21755 */display: inline-block !important;position: relative;}#sk-container-id-19 div.sk-text-repr-fallback {display: none;}</style><div id=\"sk-container-id-19\" class=\"sk-top-container\"><div class=\"sk-text-repr-fallback\"><pre>KNeighborsRegressor(n_neighbors=100)</pre><b>In a Jupyter environment, please rerun this cell to show the HTML representation or trust the notebook. <br />On GitHub, the HTML representation is unable to render, please try loading this page with nbviewer.org.</b></div><div class=\"sk-container\" hidden><div class=\"sk-item\"><div class=\"sk-estimator sk-toggleable\"><input class=\"sk-toggleable__control sk-hidden--visually\" id=\"sk-estimator-id-19\" type=\"checkbox\" checked><label for=\"sk-estimator-id-19\" class=\"sk-toggleable__label sk-toggleable__label-arrow\">KNeighborsRegressor</label><div class=\"sk-toggleable__content\"><pre>KNeighborsRegressor(n_neighbors=100)</pre></div></div></div></div></div>"
      ],
      "text/plain": [
       "KNeighborsRegressor(n_neighbors=100)"
      ]
     },
     "execution_count": 316,
     "metadata": {},
     "output_type": "execute_result"
    }
   ],
   "source": [
    "knn.fit(x_train,y_train)"
   ]
  },
  {
   "cell_type": "markdown",
   "metadata": {},
   "source": [
    "evaluate model"
   ]
  },
  {
   "cell_type": "code",
   "execution_count": 317,
   "metadata": {},
   "outputs": [
    {
     "data": {
      "text/plain": [
       "0.004126700179766796"
      ]
     },
     "execution_count": 317,
     "metadata": {},
     "output_type": "execute_result"
    }
   ],
   "source": [
    "knn.score(x_test,y_test)"
   ]
  },
  {
   "cell_type": "code",
   "execution_count": 318,
   "metadata": {},
   "outputs": [
    {
     "data": {
      "text/plain": [
       "0.013943157289041963"
      ]
     },
     "execution_count": 318,
     "metadata": {},
     "output_type": "execute_result"
    }
   ],
   "source": [
    "score = cross_val_score(KNeighborsRegressor(n_neighbors=100),x,y,cv=5)\n",
    "score.mean()"
   ]
  },
  {
   "cell_type": "code",
   "execution_count": 319,
   "metadata": {},
   "outputs": [
    {
     "data": {
      "text/plain": [
       "-0.02631763059283876"
      ]
     },
     "execution_count": 319,
     "metadata": {},
     "output_type": "execute_result"
    }
   ],
   "source": [
    "from sklearn.ensemble import BaggingRegressor\n",
    "bag_model = BaggingRegressor(\n",
    "    estimator=KNeighborsRegressor(),\n",
    "    n_estimators=100,# 100 subsets from actual data \n",
    "    max_samples= 0.8,\n",
    "    oob_score=True,\n",
    "    random_state= 0    \n",
    ")\n",
    "bag_model.fit(x_train,y_train)\n",
    "bag_model.oob_score_\n"
   ]
  },
  {
   "cell_type": "code",
   "execution_count": 320,
   "metadata": {},
   "outputs": [
    {
     "data": {
      "text/plain": [
       "array([1950570.  , 1016960.  ,  979680.  , 1272209.91, 1099660.  ,\n",
       "        977880.  ,  828070.  , 1138210.  , 1067120.  , 1086279.91,\n",
       "       1714370.  ,  895720.  ,  975180.  ,  956150.  ,  902840.  ,\n",
       "       1210840.  , 1054370.  , 1190030.  ,  982920.  ,  881560.  ,\n",
       "       1198730.  , 1575330.  , 1323260.  ,  875550.  ,  888750.  ,\n",
       "        827570.  ,  982920.  ,  903000.  , 1030450.  , 1054370.  ,\n",
       "       1131710.  , 1164030.  , 1058410.  , 1134130.  , 1196280.  ,\n",
       "       1151240.  , 1216250.  ,  988580.  , 1939110.  , 1108690.  ,\n",
       "        922350.  , 1232110.  ,  910130.  , 1067120.  ,  868260.  ,\n",
       "       1100489.91, 1384840.  ,  806350.  , 1939110.  , 1088780.  ,\n",
       "       1163960.  ,  864290.  , 1092350.  ,  869290.  , 1205499.91,\n",
       "       1196280.  ,  920100.  , 1155860.  , 1192400.  , 1301980.  ,\n",
       "        876900.  , 1123210.  ,  920100.  , 1027800.  , 1045490.  ,\n",
       "       1158930.  ,  839390.  ,  897480.  , 1103480.  , 1090979.91,\n",
       "        945980.  ,  841420.  ,  778260.  , 1173520.  , 1201820.  ,\n",
       "        960760.  , 1040500.  ,  975690.  ,  828890.  ,  822790.  ,\n",
       "       1060630.  , 1028950.  , 1559410.  , 1363380.  , 1236460.  ,\n",
       "       1091800.  , 1366040.  , 1091800.  , 1043370.  ,  959930.  ,\n",
       "       1164030.  , 1086279.91, 1043370.  ,  846650.  , 1037290.  ,\n",
       "        979790.  , 1143100.  , 1149750.  ,  867280.  , 1258330.  ,\n",
       "       1088780.  , 1037630.  , 1190690.  , 1198730.  ,  819640.  ,\n",
       "       1397240.  ,  941400.  , 1222690.  ,  831780.  , 1191340.  ,\n",
       "       1196280.  , 1138210.  ,  935820.  ,  982640.  , 1939110.  ,\n",
       "        960700.  ,  825470.  , 1226250.  , 1035370.  , 1737650.  ,\n",
       "        984340.  ,  991680.  ,  966910.  , 1085420.  , 1098040.  ,\n",
       "       1198240.  , 1020600.  , 1163329.91, 1234520.  , 1314640.  ,\n",
       "       1022150.  ,  876900.  , 1167250.  , 1185340.  ,  821840.  ,\n",
       "        830990.  , 1714370.  , 1190980.  ,  832740.  , 1081260.  ,\n",
       "       1083960.  ,  893960.  ,  878070.  , 1088780.  ,  861340.  ,\n",
       "        873140.  , 1029730.  , 1188449.91, 1026060.  ,  958060.  ,\n",
       "       1216350.  , 1342459.91,  926290.  , 1157440.  ,  988540.  ,\n",
       "       1067120.  , 1026370.  , 1247700.  ,  810340.  , 1114710.  ,\n",
       "       1222690.  ,  797860.  ,  854850.  , 1313549.91,  882770.  ,\n",
       "        935470.  ,  871780.  , 1085710.  , 1737760.  , 1088780.  ,\n",
       "       1068110.  ,  816110.  , 1041660.  , 1202400.  , 1037290.  ,\n",
       "       1071049.91,  924410.  ,  961880.  ,  923390.  , 1131650.  ,\n",
       "       1185170.  , 1153710.  , 1198730.  , 1028950.  , 1327390.  ,\n",
       "       1241520.  ,  927610.  ,  863200.  , 1029240.  ,  876060.  ,\n",
       "        861950.  , 1188449.91,  917360.  , 1029620.  ,  873140.  ,\n",
       "       1194600.  , 1064390.  , 1022340.  , 1243220.  ,  930170.  ,\n",
       "       1067120.  , 1152080.  , 1068390.  ,  930140.  ,  935820.  ,\n",
       "        852910.  , 1358330.  ,  825470.  ,  922330.  ,  845540.  ,\n",
       "       1022870.  , 1239970.  , 1194600.  ,  861950.  ,  881290.  ,\n",
       "        839020.  ,  812260.  ,  959490.  , 1179970.  , 1073100.  ,\n",
       "        790150.  , 1221380.  , 1243840.  , 1028950.  , 1034140.  ,\n",
       "        968340.  , 1088780.  , 1340150.  , 1751210.  , 1230520.  ,\n",
       "        890270.  ,  837590.  , 1027930.  , 1939110.  , 1162170.  ,\n",
       "        889060.  ,  888880.  , 1029730.  , 1293289.91, 1175269.91,\n",
       "        861340.  ,  942290.  ,  830030.  ,  927440.  , 1169950.  ,\n",
       "        845430.  ,  866150.  ,  962310.  , 1045950.  ,  989280.  ,\n",
       "        861950.  , 1167250.  , 1145930.  ,  927440.  , 1188009.91,\n",
       "       1067120.  ,  984370.  , 1180140.  ,  931810.  , 1109070.  ,\n",
       "       1159740.  , 1823120.  , 1175330.  , 1080420.  , 1071920.  ,\n",
       "       1085510.  ,  989130.  ,  985090.  , 1109190.  , 1939110.  ,\n",
       "       1939110.  , 1162429.91, 1108050.  , 1227710.  , 1196220.  ,\n",
       "       1314640.  , 1182610.  ,  867420.  ,  826100.  , 1226250.  ,\n",
       "        837860.  , 1146340.  , 1313549.91,  954050.  , 1183869.91,\n",
       "       1384840.  ,  838180.  , 1151240.  , 1161440.  ,  864880.  ,\n",
       "        821840.  ,  991680.  , 1010320.  ,  994820.  ,  923390.  ,\n",
       "       1076190.  ,  873180.  ,  871190.  ,  843070.  , 1094869.91,\n",
       "        843670.  ,  930140.  , 1026370.  , 1289130.  ,  942210.  ,\n",
       "       1029240.  , 1192880.  , 1039760.  , 1054730.  , 1574020.  ,\n",
       "       1939110.  , 1140500.  , 1104760.  , 1196000.  , 1314640.  ,\n",
       "        891670.  , 1187740.  , 1095590.  , 1120560.  , 1751210.  ,\n",
       "       1339490.  , 1195369.91,  793240.  , 1236050.  ,  960810.  ,\n",
       "        886730.  ,  821330.  ,  985090.  , 1039690.  , 1095410.  ,\n",
       "        828890.  , 1059420.  ,  850410.  ,  897480.  , 1022150.  ,\n",
       "       1151240.  , 1058460.  ,  858890.  , 1259069.91,  985720.  ,\n",
       "        968750.  , 1235710.  , 1161440.  ,  920100.  , 1132470.  ,\n",
       "        873550.  , 1002390.  ,  868370.  ,  857860.  ,  907590.  ,\n",
       "        821820.  , 1204610.  , 1939110.  , 1111600.  ,  895720.  ,\n",
       "       1209570.  ,  972940.  , 1052320.  ,  928660.  ,  991680.  ,\n",
       "        927440.  ,  936340.  , 1230670.  , 1314640.  , 1342459.91,\n",
       "        942690.  , 1160380.  , 1191340.  ,  856230.  , 1049410.  ,\n",
       "        861340.  ,  935820.  , 1048070.  , 1060880.  , 1113160.  ,\n",
       "        821820.  ,  930170.  ,  937010.  , 1027700.  , 1171369.91,\n",
       "        895790.  ,  891490.  , 1348090.  , 1168020.  ,  904080.  ,\n",
       "        823630.  ,  878100.  , 1111880.  , 1071920.  , 1100489.91,\n",
       "       1305410.  , 1022340.  ,  878070.  ,  821840.  , 1030960.  ,\n",
       "       1074070.  , 1198240.  , 1088780.  , 1232309.91,  891490.  ,\n",
       "        920980.  ,  933620.  ,  939730.  , 1086279.91, 1206960.  ,\n",
       "       1185950.  , 1236910.  , 1228110.  ,  915990.  , 1247700.  ,\n",
       "        960810.  ,  877450.  , 1939110.  ,  919610.  ,  830270.  ,\n",
       "       1173520.  ,  988540.  , 1104040.  , 1187740.  , 1035950.  ,\n",
       "        925670.  ])"
      ]
     },
     "execution_count": 320,
     "metadata": {},
     "output_type": "execute_result"
    }
   ],
   "source": [
    "knn.predict(x_test)"
   ]
  },
  {
   "cell_type": "code",
   "execution_count": 321,
   "metadata": {},
   "outputs": [
    {
     "name": "stdout",
     "output_type": "stream",
     "text": [
      "Mean Squared Error: 1145147735257.2446\n"
     ]
    }
   ],
   "source": [
    "from sklearn.metrics import mean_squared_error\n",
    "mse = mean_squared_error(y_test, y_pre)\n",
    "print(f'Mean Squared Error: {mse}')"
   ]
  },
  {
   "cell_type": "markdown",
   "metadata": {},
   "source": [
    "SVR"
   ]
  },
  {
   "cell_type": "markdown",
   "metadata": {},
   "source": [
    "model selection"
   ]
  },
  {
   "cell_type": "code",
   "execution_count": 322,
   "metadata": {},
   "outputs": [],
   "source": [
    "from sklearn.svm import SVR\n",
    "svm = SVR()"
   ]
  },
  {
   "cell_type": "markdown",
   "metadata": {},
   "source": [
    "model training"
   ]
  },
  {
   "cell_type": "code",
   "execution_count": 323,
   "metadata": {},
   "outputs": [
    {
     "data": {
      "text/html": [
       "<style>#sk-container-id-20 {color: black;}#sk-container-id-20 pre{padding: 0;}#sk-container-id-20 div.sk-toggleable {background-color: white;}#sk-container-id-20 label.sk-toggleable__label {cursor: pointer;display: block;width: 100%;margin-bottom: 0;padding: 0.3em;box-sizing: border-box;text-align: center;}#sk-container-id-20 label.sk-toggleable__label-arrow:before {content: \"▸\";float: left;margin-right: 0.25em;color: #696969;}#sk-container-id-20 label.sk-toggleable__label-arrow:hover:before {color: black;}#sk-container-id-20 div.sk-estimator:hover label.sk-toggleable__label-arrow:before {color: black;}#sk-container-id-20 div.sk-toggleable__content {max-height: 0;max-width: 0;overflow: hidden;text-align: left;background-color: #f0f8ff;}#sk-container-id-20 div.sk-toggleable__content pre {margin: 0.2em;color: black;border-radius: 0.25em;background-color: #f0f8ff;}#sk-container-id-20 input.sk-toggleable__control:checked~div.sk-toggleable__content {max-height: 200px;max-width: 100%;overflow: auto;}#sk-container-id-20 input.sk-toggleable__control:checked~label.sk-toggleable__label-arrow:before {content: \"▾\";}#sk-container-id-20 div.sk-estimator input.sk-toggleable__control:checked~label.sk-toggleable__label {background-color: #d4ebff;}#sk-container-id-20 div.sk-label input.sk-toggleable__control:checked~label.sk-toggleable__label {background-color: #d4ebff;}#sk-container-id-20 input.sk-hidden--visually {border: 0;clip: rect(1px 1px 1px 1px);clip: rect(1px, 1px, 1px, 1px);height: 1px;margin: -1px;overflow: hidden;padding: 0;position: absolute;width: 1px;}#sk-container-id-20 div.sk-estimator {font-family: monospace;background-color: #f0f8ff;border: 1px dotted black;border-radius: 0.25em;box-sizing: border-box;margin-bottom: 0.5em;}#sk-container-id-20 div.sk-estimator:hover {background-color: #d4ebff;}#sk-container-id-20 div.sk-parallel-item::after {content: \"\";width: 100%;border-bottom: 1px solid gray;flex-grow: 1;}#sk-container-id-20 div.sk-label:hover label.sk-toggleable__label {background-color: #d4ebff;}#sk-container-id-20 div.sk-serial::before {content: \"\";position: absolute;border-left: 1px solid gray;box-sizing: border-box;top: 0;bottom: 0;left: 50%;z-index: 0;}#sk-container-id-20 div.sk-serial {display: flex;flex-direction: column;align-items: center;background-color: white;padding-right: 0.2em;padding-left: 0.2em;position: relative;}#sk-container-id-20 div.sk-item {position: relative;z-index: 1;}#sk-container-id-20 div.sk-parallel {display: flex;align-items: stretch;justify-content: center;background-color: white;position: relative;}#sk-container-id-20 div.sk-item::before, #sk-container-id-20 div.sk-parallel-item::before {content: \"\";position: absolute;border-left: 1px solid gray;box-sizing: border-box;top: 0;bottom: 0;left: 50%;z-index: -1;}#sk-container-id-20 div.sk-parallel-item {display: flex;flex-direction: column;z-index: 1;position: relative;background-color: white;}#sk-container-id-20 div.sk-parallel-item:first-child::after {align-self: flex-end;width: 50%;}#sk-container-id-20 div.sk-parallel-item:last-child::after {align-self: flex-start;width: 50%;}#sk-container-id-20 div.sk-parallel-item:only-child::after {width: 0;}#sk-container-id-20 div.sk-dashed-wrapped {border: 1px dashed gray;margin: 0 0.4em 0.5em 0.4em;box-sizing: border-box;padding-bottom: 0.4em;background-color: white;}#sk-container-id-20 div.sk-label label {font-family: monospace;font-weight: bold;display: inline-block;line-height: 1.2em;}#sk-container-id-20 div.sk-label-container {text-align: center;}#sk-container-id-20 div.sk-container {/* jupyter's `normalize.less` sets `[hidden] { display: none; }` but bootstrap.min.css set `[hidden] { display: none !important; }` so we also need the `!important` here to be able to override the default hidden behavior on the sphinx rendered scikit-learn.org. See: https://github.com/scikit-learn/scikit-learn/issues/21755 */display: inline-block !important;position: relative;}#sk-container-id-20 div.sk-text-repr-fallback {display: none;}</style><div id=\"sk-container-id-20\" class=\"sk-top-container\"><div class=\"sk-text-repr-fallback\"><pre>SVR()</pre><b>In a Jupyter environment, please rerun this cell to show the HTML representation or trust the notebook. <br />On GitHub, the HTML representation is unable to render, please try loading this page with nbviewer.org.</b></div><div class=\"sk-container\" hidden><div class=\"sk-item\"><div class=\"sk-estimator sk-toggleable\"><input class=\"sk-toggleable__control sk-hidden--visually\" id=\"sk-estimator-id-20\" type=\"checkbox\" checked><label for=\"sk-estimator-id-20\" class=\"sk-toggleable__label sk-toggleable__label-arrow\">SVR</label><div class=\"sk-toggleable__content\"><pre>SVR()</pre></div></div></div></div></div>"
      ],
      "text/plain": [
       "SVR()"
      ]
     },
     "execution_count": 323,
     "metadata": {},
     "output_type": "execute_result"
    }
   ],
   "source": [
    "svm.fit(x_train,y_train)"
   ]
  },
  {
   "cell_type": "markdown",
   "metadata": {},
   "source": [
    "evaluate model"
   ]
  },
  {
   "cell_type": "code",
   "execution_count": 324,
   "metadata": {},
   "outputs": [
    {
     "data": {
      "text/plain": [
       "-0.09407562641250355"
      ]
     },
     "execution_count": 324,
     "metadata": {},
     "output_type": "execute_result"
    }
   ],
   "source": [
    "svm.score(x_test,y_test)"
   ]
  },
  {
   "cell_type": "code",
   "execution_count": 325,
   "metadata": {},
   "outputs": [
    {
     "data": {
      "text/plain": [
       "-0.10653642438942565"
      ]
     },
     "execution_count": 325,
     "metadata": {},
     "output_type": "execute_result"
    }
   ],
   "source": [
    "score = cross_val_score(SVR(),x,y,cv=5)\n",
    "score.mean()"
   ]
  },
  {
   "cell_type": "code",
   "execution_count": 326,
   "metadata": {},
   "outputs": [
    {
     "data": {
      "text/plain": [
       "-0.11166981664258735"
      ]
     },
     "execution_count": 326,
     "metadata": {},
     "output_type": "execute_result"
    }
   ],
   "source": [
    "from sklearn.ensemble import BaggingRegressor\n",
    "bag_model = BaggingRegressor(\n",
    "    estimator=SVR(),\n",
    "    n_estimators=100,# 100 subsets from actual data \n",
    "    max_samples= 0.8,\n",
    "    oob_score=True,\n",
    "    random_state= 0    \n",
    ")\n",
    "bag_model.fit(x_train,y_train)\n",
    "bag_model.oob_score_\n"
   ]
  },
  {
   "cell_type": "code",
   "execution_count": 327,
   "metadata": {},
   "outputs": [
    {
     "data": {
      "text/plain": [
       "array([695573.29145237, 695467.21512853, 695487.92362182, 695518.23629516,\n",
       "       695488.85309064, 695488.18240605, 695460.09018713, 695547.60768236,\n",
       "       695531.23482268, 695525.75644919, 695570.38909574, 695443.92075152,\n",
       "       695444.24105157, 695487.35377842, 695446.15512181, 695544.99924766,\n",
       "       695531.93120892, 695557.0498571 , 695444.7440527 , 695451.17751338,\n",
       "       695512.07462657, 695567.15035831, 695540.69115737, 695447.35903022,\n",
       "       695445.43299069, 695457.48338251, 695444.74405279, 695447.32897195,\n",
       "       695453.39955088, 695531.89948108, 695547.65975774, 695494.48888075,\n",
       "       695458.16105074, 695548.41646152, 695471.29978313, 695476.49112209,\n",
       "       695559.62476836, 695448.2298119 , 695574.85500847, 695496.80740428,\n",
       "       695447.1795504 , 695473.32042593, 695449.46266959, 695531.23482491,\n",
       "       695444.05970827, 695524.66172092, 695539.03366164, 695459.69484385,\n",
       "       695576.77357622, 695517.14040167, 695548.99470936, 695443.94664274,\n",
       "       695528.64601804, 695444.14514087, 695517.05385181, 695471.29978357,\n",
       "       695446.36596281, 695547.32553799, 695549.2394535 , 695541.29021283,\n",
       "       695450.83629407, 695545.87421916, 695446.36596684, 695453.60201319,\n",
       "       695450.45216392, 695493.58371952, 695453.71047154, 695447.83374462,\n",
       "       695527.3918182 , 695525.55889275, 695443.9080584 , 695503.92869012,\n",
       "       695455.91913726, 695548.81248364, 695556.26516146, 695443.90232375,\n",
       "       695476.2586498 , 695444.25399881, 695505.08047297, 695452.86424743,\n",
       "       695531.63756232, 695479.78401528, 695566.74308704, 695537.75781098,\n",
       "       695473.5036383 , 695510.23899878, 695537.50140149, 695510.24450716,\n",
       "       695532.30629083, 695467.10104448, 695494.48888117, 695525.87547102,\n",
       "       695532.29309876, 695448.57902502, 695470.33450722, 695499.11944883,\n",
       "       695495.43494054, 695511.50397123, 695452.19925835, 695555.95377196,\n",
       "       695523.719494  , 695470.43726569, 695513.55240283, 695512.1738734 ,\n",
       "       695452.92308259, 695542.22972592, 695445.82589749, 695549.17657998,\n",
       "       695453.96713615, 695475.77270333, 695471.29978464, 695547.58163223,\n",
       "       695461.23689931, 695448.27765149, 695576.45396706, 695499.51643939,\n",
       "       695457.96048679, 695472.66494583, 695460.17261457, 695569.2054151 ,\n",
       "       695444.43654988, 695444.13753518, 695466.60880173, 695470.73573146,\n",
       "       695530.35272265, 695556.75274785, 695467.71236281, 695522.87735558,\n",
       "       695473.62677778, 695561.68884809, 695445.32609196, 695450.83629237,\n",
       "       695492.64029532, 695560.53933017, 695453.51096092, 695457.62394289,\n",
       "       695570.31218062, 695513.21604792, 695458.70796226, 695469.79345597,\n",
       "       695469.60072506, 695449.30398944, 695485.07361644, 695520.8553339 ,\n",
       "       695444.02781317, 695454.89859524, 695480.68078591, 695515.39903019,\n",
       "       695469.8105728 , 695443.89851535, 695545.44001615, 695519.8641212 ,\n",
       "       695446.50060709, 695544.48364205, 695443.97410661, 695531.25338817,\n",
       "       695458.48295004, 695474.63023625, 695459.39196272, 695557.66910013,\n",
       "       695549.15794228, 695458.87928932, 695447.60198202, 695520.42867837,\n",
       "       695484.85540073, 695507.154364  , 695444.25225599, 695509.41819598,\n",
       "       695567.9909741 , 695523.31770036, 695531.16055497, 695446.86868775,\n",
       "       695454.29190282, 695511.99742574, 695470.33450722, 695526.51851072,\n",
       "       695446.40582779, 695444.49064709, 695463.20146368, 695491.06904374,\n",
       "       695550.4350459 , 695547.99050313, 695512.08841116, 695480.2572056 ,\n",
       "       695543.33483151, 695475.08306612, 695506.0343145 , 695456.63579458,\n",
       "       695480.4921359 , 695448.72003073, 695444.2217486 , 695515.39903253,\n",
       "       695443.90035335, 695445.18906976, 695454.89859653, 695513.26291775,\n",
       "       695478.67157357, 695462.5421381 , 695560.94369002, 695506.66825012,\n",
       "       695531.23482466, 695552.63894667, 695457.19933463, 695461.77562697,\n",
       "       695461.2707973 , 695444.50065053, 695538.00870434, 695457.9896516 ,\n",
       "       695443.93487909, 695503.07952994, 695461.42803237, 695473.50364097,\n",
       "       695513.35114353, 695444.22174954, 695465.1124085 , 695457.47860736,\n",
       "       695483.83436695, 695462.6529723 , 695553.52869991, 695530.85263304,\n",
       "       695456.38501965, 695565.05054144, 695475.05340337, 695480.83228816,\n",
       "       695508.2540002 , 695499.30843434, 695523.69917724, 695542.86135501,\n",
       "       695568.11861291, 695472.27222978, 695444.5473622 , 695504.5685688 ,\n",
       "       695463.95392957, 695578.35582086, 695471.0031216 , 695444.5006574 ,\n",
       "       695449.57771328, 695480.68562699, 695518.65663733, 695524.18649136,\n",
       "       695444.02781052, 695461.37088145, 695504.91344067, 695446.42272174,\n",
       "       695492.44056808, 695482.4693235 , 695444.11969852, 695445.72955253,\n",
       "       695480.39069363, 695444.19823648, 695444.22174718, 695492.64029447,\n",
       "       695558.19145299, 695446.42272051, 695515.20065547, 695509.01623318,\n",
       "       695488.28757383, 695560.03202262, 695506.83025191, 695489.73348341,\n",
       "       695470.91243756, 695571.74030544, 695544.02448023, 695490.08069854,\n",
       "       695479.33855986, 695509.54486808, 695444.16204081, 695501.2041725 ,\n",
       "       695489.13916004, 695578.96114317, 695577.65159   , 695523.11717582,\n",
       "       695478.10343359, 695473.40303983, 695549.87738083, 695561.61327355,\n",
       "       695550.03905005, 695505.29688141, 695458.10333078, 695472.49921491,\n",
       "       695482.93498672, 695476.36132872, 695520.42867451, 695464.33855709,\n",
       "       695524.3494951 , 695539.03366079, 695457.09092491, 695476.59788048,\n",
       "       695544.26894199, 695451.90888578, 695453.49611214, 695444.1375293 ,\n",
       "       695445.46305901, 695498.49930846, 695463.20146284, 695478.10343045,\n",
       "       695443.97011795, 695448.20392363, 695503.928682  , 695525.24473029,\n",
       "       695503.64455906, 695461.77020403, 695458.56639218, 695543.674015  ,\n",
       "       695506.42668098, 695480.49455517, 695513.13609587, 695496.35532512,\n",
       "       695518.01311046, 695566.99688559, 695575.60866129, 695492.01288895,\n",
       "       695530.61344707, 695471.77668071, 695561.48705758, 695454.58369676,\n",
       "       695475.77270182, 695496.75921691, 695557.56701266, 695568.04905203,\n",
       "       695539.81678136, 695515.51474095, 695455.86805827, 695475.31383932,\n",
       "       695499.84898952, 695502.47980492, 695453.15235609, 695501.20417118,\n",
       "       695450.12339791, 695506.6874333 , 695505.08047297, 695487.82288315,\n",
       "       695444.86246747, 695447.83374901, 695445.29771201, 695476.55609388,\n",
       "       695496.47525343, 695447.8142542 , 695516.33546057, 695481.40451021,\n",
       "       695487.65248686, 695473.50363736, 695544.20298653, 695446.36596745,\n",
       "       695491.2360285 , 695450.98901279, 695452.35415281, 695452.13276152,\n",
       "       695482.93499027, 695485.42802227, 695453.25604003, 695535.43056821,\n",
       "       695577.04776461, 695478.10343364, 695443.9207521 , 695559.43921234,\n",
       "       695467.28780281, 695493.44880927, 695461.53767057, 695444.13753401,\n",
       "       695446.42272237, 695501.20416543, 695559.85584496, 695561.68884557,\n",
       "       695519.8229949 , 695501.20416759, 695493.16682055, 695553.80022959,\n",
       "       695444.43787005, 695500.88017762, 695444.02781142, 695461.20302953,\n",
       "       695532.55686507, 695449.83136782, 695499.26215955, 695453.18419864,\n",
       "       695506.6682488 , 695460.55823934, 695450.96236714, 695523.95002076,\n",
       "       695485.55139705, 695501.59539462, 695541.76205628, 695494.22912961,\n",
       "       695446.20247355, 695459.71535581, 695450.80296142, 695489.27076328,\n",
       "       695479.37680878, 695524.70242381, 695566.2284418 , 695462.44569424,\n",
       "       695485.03094765, 695453.50286067, 695465.46215075, 695532.84926386,\n",
       "       695556.59415334, 695513.80334619, 695515.74612908, 695501.66879783,\n",
       "       695505.80120388, 695465.64377309, 695507.36318802, 695525.87547075,\n",
       "       695554.71780257, 695513.60202747, 695473.50363913, 695473.50363606,\n",
       "       695462.75099574, 695474.57352583, 695499.84899422, 695447.19137519,\n",
       "       695578.9667397 , 695462.34926116, 695483.36776153, 695548.81248518,\n",
       "       695443.98255308, 695497.16372658, 695475.77269881, 695483.12757   ,\n",
       "       695463.72854305])"
      ]
     },
     "execution_count": 327,
     "metadata": {},
     "output_type": "execute_result"
    }
   ],
   "source": [
    "svm.predict(x_test)"
   ]
  },
  {
   "cell_type": "code",
   "execution_count": 328,
   "metadata": {},
   "outputs": [
    {
     "name": "stdout",
     "output_type": "stream",
     "text": [
      "Mean Squared Error: 1145147735257.2446\n"
     ]
    }
   ],
   "source": [
    "from sklearn.metrics import mean_squared_error\n",
    "mse = mean_squared_error(y_test, y_pre)\n",
    "print(f'Mean Squared Error: {mse}')"
   ]
  },
  {
   "cell_type": "markdown",
   "metadata": {},
   "source": [
    "RANDOM FORSET has the highest accuracy "
   ]
  }
 ],
 "metadata": {
  "kernelspec": {
   "display_name": "Python 3",
   "language": "python",
   "name": "python3"
  },
  "language_info": {
   "codemirror_mode": {
    "name": "ipython",
    "version": 3
   },
   "file_extension": ".py",
   "mimetype": "text/x-python",
   "name": "python",
   "nbconvert_exporter": "python",
   "pygments_lexer": "ipython3",
   "version": "3.11.2"
  }
 },
 "nbformat": 4,
 "nbformat_minor": 2
}
